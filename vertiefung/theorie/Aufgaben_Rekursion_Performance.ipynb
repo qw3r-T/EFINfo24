{
 "cells": [
  {
   "cell_type": "markdown",
   "metadata": {},
   "source": [
    "# Aufgabenblatt Rekursion - Performance"
   ]
  },
  {
   "cell_type": "markdown",
   "metadata": {},
   "source": [
    "Einteilung der Aufgaben:\n",
    "- Einstieg: Von allen zu lösende Aufgaben um die Kernideen zu verstehen (Pflicht)\n",
    "- Übung: weitere Aufgaben zum Üben ohne wesentlich neue Elemente\n",
    "- Vertiefung: Aufgaben, die weiterführend sind und neue Erkenntnisse ermöglichen\n",
    "- Herausforderung: Aufgaben, die knifflige Probleme angehen"
   ]
  },
  {
   "cell_type": "markdown",
   "metadata": {},
   "source": [
    "### Aufgabe 1 (Einstieg)"
   ]
  },
  {
   "cell_type": "markdown",
   "metadata": {},
   "source": [
    "Schreiben Sie je eine rekursive und eine iterative Funktion, welche die Fakultät einer Zahl berechnen."
   ]
  },
  {
   "cell_type": "markdown",
   "metadata": {},
   "source": [
    "**Hinweis**"
   ]
  },
  {
   "cell_type": "markdown",
   "metadata": {
    "jupyter": {
     "source_hidden": true
    }
   },
   "source": [
    "Die Fakultät einer natürlichen Zahl n ist definiert als das Produkt aller Zahlen kleiner oder gleich n. Als Operationszeichen dient das Ausrufezeichen '!'.\n",
    "\n",
    "Entsprechend ist $6!=1\\cdot2\\cdot3\\cdot4\\cdot5\\cdot6=720$."
   ]
  },
  {
   "cell_type": "markdown",
   "metadata": {},
   "source": [
    "**Tipp**"
   ]
  },
  {
   "cell_type": "markdown",
   "metadata": {
    "jupyter": {
     "source_hidden": true
    }
   },
   "source": [
    "Die rekursive Funktion ist sehr ähnlich definiert wie die Funktion für das Potenzieren."
   ]
  },
  {
   "cell_type": "markdown",
   "metadata": {},
   "source": [
    "**Lösung**"
   ]
  },
  {
   "cell_type": "code",
   "execution_count": null,
   "metadata": {},
   "outputs": [],
   "source": [
    "def rek(a):\n",
    "  if a==1:\n",
    "    return a\n",
    "  return a * rek(a-1)"
   ]
  },
  {
   "cell_type": "code",
   "execution_count": null,
   "metadata": {},
   "outputs": [],
   "source": []
  },
  {
   "cell_type": "markdown",
   "metadata": {},
   "source": [
    "### Aufgabe 2 (Einstieg)"
   ]
  },
  {
   "cell_type": "markdown",
   "metadata": {},
   "source": [
    "Nutzen Sie die Funktion *perf_counter* aus dem Modul *time* um für verschieden grosse n die Berechnungszeiten für die beiden Fakultäts-Funktionen aus der vorangehenden Aufgabe zu vergleichen."
   ]
  },
  {
   "cell_type": "markdown",
   "metadata": {},
   "source": [
    "**Lösung**"
   ]
  },
  {
   "cell_type": "code",
   "execution_count": null,
   "metadata": {},
   "outputs": [],
   "source": []
  },
  {
   "cell_type": "markdown",
   "metadata": {},
   "source": [
    "### Aufgabe 3 (Einstieg)"
   ]
  },
  {
   "cell_type": "markdown",
   "metadata": {},
   "source": [
    "Schreiben Sie Programme, welche das n-te Element der Fibonacci-Folge berechnen:\n",
    "- Einmal als rekursive Funktion,\n",
    "- Einmal als iterative Funktion ohne Rekursion (und ohne dazu Wurzeln zu berechnen)."
   ]
  },
  {
   "cell_type": "markdown",
   "metadata": {},
   "source": [
    "**Tipps:**"
   ]
  },
  {
   "cell_type": "markdown",
   "metadata": {
    "jupyter": {
     "source_hidden": true
    }
   },
   "source": [
    "Tipp 1: Die rekursive Funktion können praktisch aus der Definition der Fibonacci-Folge ableiten."
   ]
  },
  {
   "cell_type": "markdown",
   "metadata": {
    "jupyter": {
     "source_hidden": true
    }
   },
   "source": [
    "Tipp 2: Beachten Sie bei der rekursiven Folge, dass der Rückgabewert 1 ist, fall n kleiner oder gleich 2 ist."
   ]
  },
  {
   "cell_type": "markdown",
   "metadata": {
    "jupyter": {
     "source_hidden": true
    }
   },
   "source": [
    "Tipp 3: Bei der iterativen Variante können Sie mit a=1 und b=1 starten und dann jeweils diese Werte überschreiben, bis Sie das genügend oft gemacht haben."
   ]
  },
  {
   "cell_type": "markdown",
   "metadata": {
    "jupyter": {
     "source_hidden": true
    }
   },
   "source": [
    "Tipp 4: Schauen Sie Sich die Berechnungsweisen in den Folien an."
   ]
  },
  {
   "cell_type": "markdown",
   "metadata": {
    "jupyter": {
     "source_hidden": true
    }
   },
   "source": [
    "Tipp 5: in Python können Sie diese Vertauschung in einem Schritt machen: a, b = b, a+b."
   ]
  },
  {
   "cell_type": "markdown",
   "metadata": {},
   "source": [
    "**Lösungen**"
   ]
  },
  {
   "cell_type": "code",
   "execution_count": null,
   "metadata": {},
   "outputs": [],
   "source": []
  },
  {
   "cell_type": "code",
   "execution_count": null,
   "metadata": {},
   "outputs": [],
   "source": []
  },
  {
   "cell_type": "markdown",
   "metadata": {},
   "source": [
    "### Aufgabe 4 (Einstieg)"
   ]
  },
  {
   "cell_type": "markdown",
   "metadata": {},
   "source": [
    "Nutzen Sie erneut die Funktion *perf_counter* aus dem Modul *time* um für verschieden grosse n die Berechnungszeiten für die beiden Fibonacci-Funktionen aus der vorangehenden Aufgabe zu vergleichen."
   ]
  },
  {
   "cell_type": "markdown",
   "metadata": {},
   "source": [
    "**Lösung**"
   ]
  },
  {
   "cell_type": "code",
   "execution_count": null,
   "metadata": {},
   "outputs": [],
   "source": []
  },
  {
   "cell_type": "markdown",
   "metadata": {},
   "source": [
    "### Aufgabe 5 (Einstieg und Vertiefung)"
   ]
  },
  {
   "cell_type": "markdown",
   "metadata": {},
   "source": [
    "Sie konnten in den vorangehenden Aufgaben feststellen, dass der Unterschied zwischen iterativ aufgebauten Programmen und rekursiv aufgebauten Programmmen nicht bei jedem Problem gleich gross ist. Bei Fibonnacci war die zeitliche Differenz wesentlich grösser als bei der Fakultät. Woran liegt das?\n",
    "\n",
    "Machen Sie dazu auch eine anschauliche Zeichnung in Ihrem OneNote Ordner. Wir werden diese Aufgabe gemeinsam besprechen."
   ]
  },
  {
   "cell_type": "markdown",
   "metadata": {},
   "source": [
    "**Tipps**"
   ]
  },
  {
   "cell_type": "markdown",
   "metadata": {
    "jupyter": {
     "source_hidden": true
    }
   },
   "source": [
    "Tipp 1: Wir haben in den Folien die einzelnen Rechnungsschritte für fib(4) aufgeschrieben. Wie sieht das denn für fib(5) und fib(6) aus"
   ]
  },
  {
   "cell_type": "markdown",
   "metadata": {
    "jupyter": {
     "source_hidden": true
    }
   },
   "source": [
    "Tipp 2: Wie häufig wurde in fib(6) der Wert von fib(3) berechnet?"
   ]
  },
  {
   "cell_type": "markdown",
   "metadata": {},
   "source": [
    "**Lösung**"
   ]
  },
  {
   "cell_type": "markdown",
   "metadata": {},
   "source": []
  },
  {
   "cell_type": "markdown",
   "metadata": {},
   "source": [
    "### Aufgabe 6 (Herausforderung)"
   ]
  },
  {
   "cell_type": "markdown",
   "metadata": {},
   "source": [
    "Eines der Probleme bei der rekursiv definierten Fibonacci-Folge ist tatsächlich, dass die meisten Berechnungen mehr als einmal durchgeführt werden. Dieses Problem kann man umgehen, indem man bereits berechnete Ergebnisse in einer geeigneten Datenstruktur ablegt und dann vor dem Berechnen zuerst einmal nachschaut, ob das Ergebnis der Berechnung bereits entsprechend abgelegt ist. Suchen Sie also eine geeignete Datenstruktur und setzen Sie die Idee um. Vergleichen Sie anschliessend die Berechnungszeiten dieses neuen Programms mit den beiden bisherigen Varianten."
   ]
  },
  {
   "cell_type": "markdown",
   "metadata": {},
   "source": [
    "**Tipps**"
   ]
  },
  {
   "cell_type": "markdown",
   "metadata": {
    "jupyter": {
     "source_hidden": true
    }
   },
   "source": [
    "Tipp 1: Sie brauchen eine Datenstruktur, die Ihnen erlaubt, einem beliebigen Schlüssel einen Wert zuzuweisen und der Ihnen erlaubt zu überprüfen, ob ein bestimmter Schlüssel schon vorhanden ist."
   ]
  },
  {
   "cell_type": "markdown",
   "metadata": {
    "jupyter": {
     "source_hidden": true
    }
   },
   "source": [
    "Tipp 2: Sie werden den Speicher ausserhalb der eigentlichen rekursiven Funkunktionsdefinition initiieren müssen, da Sie sonst in jedem Rekursionsschritt einen neuen Speicher anlegen."
   ]
  },
  {
   "cell_type": "markdown",
   "metadata": {
    "jupyter": {
     "source_hidden": true
    }
   },
   "source": [
    "Tipp 3: Um innerhalb der Funktion auf den Speicher zuzugreifen haben Sie zwei Möglichkeiten: entweder Sie nutzen globale Variablen oder Sie übergeben den Speicher jeweils als zusätzliches Argument. Im zweiten Fall wird lediglich die Referenz übergeben und somit entsteht dabei nur ein vertretbarer Mehraufwand in der Bearbeitung."
   ]
  },
  {
   "cell_type": "markdown",
   "metadata": {},
   "source": [
    "**Lösung**"
   ]
  },
  {
   "cell_type": "code",
   "execution_count": null,
   "metadata": {},
   "outputs": [],
   "source": []
  },
  {
   "cell_type": "code",
   "execution_count": null,
   "metadata": {},
   "outputs": [],
   "source": []
  }
 ],
 "metadata": {
  "kernelspec": {
   "display_name": "Python 3",
   "language": "python",
   "name": "python3"
  },
  "language_info": {
   "codemirror_mode": {
    "name": "ipython",
    "version": 3
   },
   "file_extension": ".py",
   "mimetype": "text/x-python",
   "name": "python",
   "nbconvert_exporter": "python",
   "pygments_lexer": "ipython3",
   "version": "3.7.4"
  }
 },
 "nbformat": 4,
 "nbformat_minor": 4
}
