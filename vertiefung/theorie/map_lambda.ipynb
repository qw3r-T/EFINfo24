{
 "cells": [
  {
   "cell_type": "markdown",
   "metadata": {},
   "source": [
    "# Lambda-Operator und Map-Funkction"
   ]
  },
  {
   "cell_type": "markdown",
   "metadata": {},
   "source": [
    "## 1. Der Lambda-Operator - Funktionen inline definieren"
   ]
  },
  {
   "cell_type": "markdown",
   "metadata": {},
   "source": [
    "### 1.1 Theorie"
   ]
  },
  {
   "cell_type": "markdown",
   "metadata": {},
   "source": [
    "Bisher sahen Funktionen so aus:"
   ]
  },
  {
   "cell_type": "code",
   "execution_count": 7,
   "metadata": {},
   "outputs": [],
   "source": [
    "def addiere(a,b):\n",
    "    return a+b"
   ]
  },
  {
   "cell_type": "code",
   "execution_count": 8,
   "metadata": {},
   "outputs": [
    {
     "data": {
      "text/plain": [
       "13"
      ]
     },
     "execution_count": 8,
     "metadata": {},
     "output_type": "execute_result"
    }
   ],
   "source": [
    "addiere(5,8)"
   ]
  },
  {
   "cell_type": "markdown",
   "metadata": {},
   "source": [
    "Funktionen können aber auch direkt eingegeben werden"
   ]
  },
  {
   "cell_type": "code",
   "execution_count": null,
   "metadata": {},
   "outputs": [
    {
     "data": {
      "text/plain": [
       "12"
      ]
     },
     "execution_count": 3,
     "metadata": {},
     "output_type": "execute_result"
    }
   ],
   "source": [
    "add = lambda x,y:x+y\n",
    "add(5,7)"
   ]
  },
  {
   "cell_type": "code",
   "execution_count": null,
   "metadata": {},
   "outputs": [
    {
     "data": {
      "text/plain": [
       "5"
      ]
     },
     "execution_count": 4,
     "metadata": {},
     "output_type": "execute_result"
    }
   ],
   "source": [
    "add(2,3)"
   ]
  },
  {
   "cell_type": "markdown",
   "metadata": {},
   "source": [
    "Die Grundstruktur ist dabei die folgende:"
   ]
  },
  {
   "cell_type": "code",
   "execution_count": null,
   "metadata": {},
   "outputs": [
    {
     "data": {
      "text/plain": [
       "<function __main__.<lambda>(parameterliste)>"
      ]
     },
     "execution_count": 5,
     "metadata": {},
     "output_type": "execute_result"
    }
   ],
   "source": [
    "lambda parameterliste: ausdruck"
   ]
  },
  {
   "cell_type": "markdown",
   "metadata": {},
   "source": [
    "Im oberen Beispiel haben wir der Funktion den Namen *add* gegeben. Wir können aber auch auf die Namensgebung verzichten und sogenannte **anonyme Funktionen** definieren. Das klingt nicht nur super, sondern kann dann nützlich sein, wenn man eine Funktion nur an einer Stelle braucht."
   ]
  },
  {
   "cell_type": "code",
   "execution_count": null,
   "metadata": {},
   "outputs": [
    {
     "data": {
      "text/plain": [
       "12"
      ]
     },
     "execution_count": 6,
     "metadata": {},
     "output_type": "execute_result"
    }
   ],
   "source": [
    "(lambda x,y: x+y)(5,7)"
   ]
  },
  {
   "cell_type": "markdown",
   "metadata": {},
   "source": [
    "Das Ziel des folgenden Programms ist es, neue Operatorenzeichen einzufügen. Zuerst einmal eine Variante ohne Lambda-Operstoren:"
   ]
  },
  {
   "cell_type": "code",
   "execution_count": null,
   "metadata": {},
   "outputs": [
    {
     "name": "stdout",
     "output_type": "stream",
     "text": [
      "25\n"
     ]
    }
   ],
   "source": [
    "def add(x,y):\n",
    "    return x + y\n",
    "\n",
    "def sub(x,y):\n",
    "    return x - y\n",
    "\n",
    "def mul(x,y):\n",
    "    return x * y\n",
    "\n",
    "def div(x,y):\n",
    "    return x / y\n",
    "\n",
    "operators = { \"addiere\":add,\"subtrahiere\":sub,\"multipliziere\":mul,\"dividiere\":div}\n",
    "\n",
    "print(operators[\"multipliziere\"](5,5))"
   ]
  },
  {
   "cell_type": "markdown",
   "metadata": {},
   "source": [
    "Mit Lambda-Operstoren geht das dann doch etwas kürzer:"
   ]
  },
  {
   "cell_type": "code",
   "execution_count": null,
   "metadata": {},
   "outputs": [
    {
     "name": "stdout",
     "output_type": "stream",
     "text": [
      "4\n"
     ]
    }
   ],
   "source": [
    "operators = { \"addiere\":lambda a,b:a+b,\"subtrahiere\":lambda a,b:a-b,\"multipliziere\":lambda a,b:a*b,\"dividiere\":lambda a,b: a/b}\n",
    "\n",
    "print(operators[\"subtrahiere\"](9,5))"
   ]
  },
  {
   "cell_type": "markdown",
   "metadata": {},
   "source": [
    "### 1.2 Aufgaben"
   ]
  },
  {
   "cell_type": "markdown",
   "metadata": {},
   "source": [
    "1. Definieren Sie mit dem Lambda-Operator eine Funktion quadriere, die einen Parameter hat und diesen quadriert"
   ]
  },
  {
   "cell_type": "code",
   "execution_count": null,
   "metadata": {},
   "outputs": [],
   "source": []
  },
  {
   "cell_type": "markdown",
   "metadata": {},
   "source": [
    "2. Definieren Sie mit dem Lambda-Operator eine Funktion potenziere, die zwei Parameter x und y hat und x hoch y berechnet."
   ]
  },
  {
   "cell_type": "code",
   "execution_count": null,
   "metadata": {},
   "outputs": [],
   "source": []
  },
  {
   "cell_type": "markdown",
   "metadata": {},
   "source": [
    "3. Definieren Sie mit dem Lambda-Operator eine Funktion mit drei Parametern a, b und c. Diese soll eine Nullstelle der quadratischen Funktion f(x)=ax<sup>2</sup>+bx+c berechnen."
   ]
  },
  {
   "cell_type": "code",
   "execution_count": null,
   "metadata": {},
   "outputs": [],
   "source": []
  },
  {
   "cell_type": "markdown",
   "metadata": {},
   "source": [
    "# 2. Die Map-Funktion"
   ]
  },
  {
   "cell_type": "markdown",
   "metadata": {},
   "source": [
    "### 2.1 Theorie"
   ]
  },
  {
   "cell_type": "markdown",
   "metadata": {},
   "source": [
    "Eine Map-Funktion wendet eine Funktion auf Parameter an.\n",
    "Beispiel: Sie bitten die Anwenderin/den Anwender darum, über die Shell mehrere Zahlen einzugeben, die jeweils durch ein Komma getrennt sind. \n",
    "Das ist grundsätzlich nicht schwierig umzusetzen, das Problem entsteht nämlich erst, wenn wir mit dieser Eingabe etwas anfangen wollen. Also starten wir:"
   ]
  },
  {
   "cell_type": "code",
   "execution_count": 9,
   "metadata": {},
   "outputs": [
    {
     "name": "stdout",
     "output_type": "stream",
     "text": [
      "3,4,5\n"
     ]
    }
   ],
   "source": [
    "zahlen = input(\"Geben sie 3 Zahlen ein und trennen Sie diese jeweils durch ein Komma: \")\n",
    "print(zahlen)"
   ]
  },
  {
   "cell_type": "markdown",
   "metadata": {},
   "source": [
    "Wunderbar. Allerdings sind die Zahlen nun als ein String gespeichert"
   ]
  },
  {
   "cell_type": "code",
   "execution_count": 10,
   "metadata": {},
   "outputs": [
    {
     "data": {
      "text/plain": [
       "'3,4,5'"
      ]
     },
     "execution_count": 10,
     "metadata": {},
     "output_type": "execute_result"
    }
   ],
   "source": [
    "zahlen"
   ]
  },
  {
   "cell_type": "markdown",
   "metadata": {},
   "source": [
    "Wir separieren also zuerst den String in eine Liste aus einzelnen Strings über die String-Methode *split*"
   ]
  },
  {
   "cell_type": "code",
   "execution_count": 11,
   "metadata": {},
   "outputs": [
    {
     "name": "stdout",
     "output_type": "stream",
     "text": [
      "['3', '4', '5']\n"
     ]
    }
   ],
   "source": [
    "zahlen = zahlen.split(',')\n",
    "print(zahlen)"
   ]
  },
  {
   "cell_type": "markdown",
   "metadata": {},
   "source": [
    "Und nun machen wir aus allen Zahlenstrings echte Integers"
   ]
  },
  {
   "cell_type": "code",
   "execution_count": 12,
   "metadata": {},
   "outputs": [
    {
     "name": "stdout",
     "output_type": "stream",
     "text": [
      "[3, 4, 5]\n"
     ]
    }
   ],
   "source": [
    "zahlen = [int(zahl) for zahl in zahlen]\n",
    "print(zahlen)"
   ]
  },
  {
   "cell_type": "markdown",
   "metadata": {},
   "source": [
    "Der letzte Schritt geht aber einfacher, indem wir mit der *map*-Funktion die int-Funktion direkt auf die Elemente der Liste anwenden."
   ]
  },
  {
   "cell_type": "code",
   "execution_count": 15,
   "metadata": {},
   "outputs": [
    {
     "name": "stdout",
     "output_type": "stream",
     "text": [
      "<map object at 0x000001E9FF107088>\n"
     ]
    }
   ],
   "source": [
    "zahlen = input(\"Geben sie 3 Zahlen ein und trennen Sie diese jeweils durch ein Komma: \")\n",
    "zahlen = map(int, zahlen.split(\",\"))\n",
    "print(zahlen)"
   ]
  },
  {
   "cell_type": "code",
   "execution_count": null,
   "metadata": {},
   "outputs": [],
   "source": [
    "print(list(zahlen))"
   ]
  },
  {
   "cell_type": "markdown",
   "metadata": {},
   "source": [
    "Die Umwandlung in eine Liste ist deswegen nötig, weil die map-Funktion ein Objekt einer besonderen Klasse erzeugt, die aber problemlos in eine Liste umwandelbar ist."
   ]
  },
  {
   "cell_type": "code",
   "execution_count": null,
   "metadata": {},
   "outputs": [
    {
     "name": "stdout",
     "output_type": "stream",
     "text": [
      "[7, 2, 6, 234, 56, 7, 8]\n"
     ]
    }
   ],
   "source": [
    "zahlen = input(\"Geben sie 3 Zahlen ein und trennen Sie diese jeweils durch ein Komma: \")\n",
    "zahlen = list(map(int, zahlen.split(\",\")))\n",
    "print(zahlen)"
   ]
  },
  {
   "cell_type": "markdown",
   "metadata": {},
   "source": [
    "Natürlich können Sie in analoger Weise aus einer Liste von Integer-Werten eine Liste mit den entsprechenden Strings erzeugen"
   ]
  },
  {
   "cell_type": "code",
   "execution_count": null,
   "metadata": {},
   "outputs": [
    {
     "name": "stdout",
     "output_type": "stream",
     "text": [
      "['4', '6', '8', '10']\n"
     ]
    }
   ],
   "source": [
    "werte = [4, 6, 8, 10]\n",
    "werte_strings = list(map(str,werte))\n",
    "print(werte_strings)"
   ]
  },
  {
   "cell_type": "markdown",
   "metadata": {},
   "source": [
    "Die map-Funktion hat grundsätzlich folgende Struktur:"
   ]
  },
  {
   "cell_type": "code",
   "execution_count": null,
   "metadata": {},
   "outputs": [],
   "source": [
    "map(func, *iterables)"
   ]
  },
  {
   "cell_type": "markdown",
   "metadata": {},
   "source": [
    "Wobei *iterables grundsätzlich fast alles sein kann, das einer Liste ähnelt: Listen, Dictionarys, Tupels und sogar Mengen.\n",
    "Sie müssen allerdings stets so viele Listen eingeben, wie die Funktion Parameter hat. Zudem müssen alle Listen gleich lang sein."
   ]
  },
  {
   "cell_type": "markdown",
   "metadata": {},
   "source": [
    "So kann man beispielsweise zwei Listen wie folgt \"addieren\":"
   ]
  },
  {
   "cell_type": "code",
   "execution_count": null,
   "metadata": {},
   "outputs": [
    {
     "name": "stdout",
     "output_type": "stream",
     "text": [
      "[5, 7, 9]\n"
     ]
    }
   ],
   "source": [
    "def add(a, b):\n",
    "    return a+b\n",
    "liste1 = [1,2,3]\n",
    "liste2 = [4,5,6]\n",
    "liste_neu = list(map(add, liste1, liste2))\n",
    "print(liste_neu)"
   ]
  },
  {
   "cell_type": "markdown",
   "metadata": {},
   "source": [
    "Oder warum nicht neue Strings erstellen:"
   ]
  },
  {
   "cell_type": "code",
   "execution_count": null,
   "metadata": {},
   "outputs": [
    {
     "name": "stdout",
     "output_type": "stream",
     "text": [
      "['Der Elefant isst eine Arie.', 'Cindarella singt eine Trommel.', 'Queen Elisabeth hört einen Apfel.']\n"
     ]
    }
   ],
   "source": [
    "def satz(subjekt, praedikat, objekt):\n",
    "    return \"{} {} {}.\".format(subjekt,praedikat,objekt)\n",
    "\n",
    "subjekte = [\"Der Elefant\", \"Cindarella\", \"Queen Elisabeth\"]\n",
    "praedikate = [\"isst\", \"singt\", \"hört\"]\n",
    "objekte = [\"eine Arie\", \"eine Trommel\", \"einen Apfel\"]\n",
    "\n",
    "saetze = list(map(satz, subjekte, praedikate, objekte))\n",
    "print(saetze)"
   ]
  },
  {
   "cell_type": "markdown",
   "metadata": {},
   "source": [
    "### 2.2 Aufgaben"
   ]
  },
  {
   "cell_type": "markdown",
   "metadata": {},
   "source": [
    "4. Erstellen Sie eine Liste basieren auf der Liste worte, die jeweils die Länge der Worte enthält:"
   ]
  },
  {
   "cell_type": "code",
   "execution_count": null,
   "metadata": {},
   "outputs": [],
   "source": [
    "worte = [\"Haus\", \"Schule\", \"Kindergarten\", \"Bus\", \"Wolke\", \"Regen\"]"
   ]
  },
  {
   "cell_type": "markdown",
   "metadata": {},
   "source": [
    "5. Lassen Sie die Anwenderin/den Anwender ein Wort eingeben. Verwandeln Sie dieses Wort in eine Liste der Buchstaben. Bestimmen Sie anschliessend den ASCII-Code jedes einzelnen Buchstabens (Tipp: die Funktion *ord* kann Ihnen helfen.)"
   ]
  },
  {
   "cell_type": "code",
   "execution_count": null,
   "metadata": {},
   "outputs": [],
   "source": [
    "wort = input(\"Geben Sie ein Wort ein: \")\n",
    "\n"
   ]
  },
  {
   "cell_type": "markdown",
   "metadata": {},
   "source": [
    "6. Erweitern Sie die folgenden 5 Listen durch eine weitere Liste, die jeweils das maximale Element der fünf Listen enthält."
   ]
  },
  {
   "cell_type": "code",
   "execution_count": null,
   "metadata": {},
   "outputs": [],
   "source": [
    "li1 = [567715,587678.657761,78975718]\n",
    "li2 = [4675,454565,54658165,8947878]\n",
    "li3 = [415875,17649,1823676,12476557]\n",
    "li4 = [14678567,12456,87896716,156814]\n",
    "li5 = [58518518,456745,15645,13278]\n"
   ]
  },
  {
   "cell_type": "markdown",
   "metadata": {},
   "source": [
    "7. Ergänzen Sie folgenden Code durch eine zusätzliche Zeile so, dass alle Worte in Kleinbuchstaben geschrieben sind. (Tipp: um innerhalb eines map-Befehls auf Methoden einer Klasse zuzugreifen, verwenden Sie als Funktion: klassenname.funktionsname)"
   ]
  },
  {
   "cell_type": "code",
   "execution_count": null,
   "metadata": {},
   "outputs": [],
   "source": [
    "liste = [\"Haus\", \"und\", \"wie\"]\n"
   ]
  },
  {
   "cell_type": "markdown",
   "metadata": {},
   "source": [
    "# 3. Lambda-Operator und Map-Funktion verbinden"
   ]
  },
  {
   "cell_type": "markdown",
   "metadata": {},
   "source": [
    "Besonders wirkungsvoll ist die Map-Funktion in Kombination mit dem Lambda-Operator, da mit diesem auf einfache Weise Funktionen definiert werden können"
   ]
  },
  {
   "cell_type": "code",
   "execution_count": null,
   "metadata": {},
   "outputs": [
    {
     "name": "stdout",
     "output_type": "stream",
     "text": [
      "[81, 64, 1296]\n"
     ]
    }
   ],
   "source": [
    "liste1 = [3, 4, 6]\n",
    "liste2 = [4, 3, 4]\n",
    "potenzen = list(map(lambda x, y: x**y, liste1, liste2))\n",
    "print(potenzen)"
   ]
  },
  {
   "cell_type": "code",
   "execution_count": null,
   "metadata": {},
   "outputs": [
    {
     "name": "stdout",
     "output_type": "stream",
     "text": [
      "[60.0, -18.75, -28.0]\n",
      "[-52.0, 17.0, 26.5]\n"
     ]
    }
   ],
   "source": [
    "a = [2, 4, 6]\n",
    "b = [-16, 7, 9]\n",
    "c = [4, 12, 17]\n",
    "nullstellen1 = list(map(lambda a,b,c: (-b+(b**2-4*a*c))/(2*a), a, b, c))\n",
    "nullstellen2 = list(map(lambda a,b,c: (-b-(b**2-4*a*c))/(2*a), a, b, c))\n",
    "print(nullstellen1)\n",
    "print(nullstellen2)"
   ]
  },
  {
   "cell_type": "markdown",
   "metadata": {},
   "source": [
    "### Aufgaben"
   ]
  },
  {
   "cell_type": "markdown",
   "metadata": {},
   "source": [
    "8. Lesen Sie von der Anwenderin/ dem Anwender mehrere Zahlen ein (durch Komma getrennt) und bilden Sie anschliessend eine Liste mit den Werten von x^x (x hoch x) für alle eingelesenen Zahlen x"
   ]
  },
  {
   "cell_type": "code",
   "execution_count": null,
   "metadata": {},
   "outputs": [],
   "source": []
  },
  {
   "cell_type": "markdown",
   "metadata": {},
   "source": [
    "9. Lesen Sie von der Anwenderin/ dem Anwender zuerst eine Liste von Worten ein, dann eine Liste von Zahlen. Bilden Sie daraus eine neue Liste, die jeweils einen Boolean (True oder False) enthält, der darüber Auskunft gibt, ob die Länge des x-ten Wortes grösser ist als der x-te Buchstaben.\n",
    "Nutzen Sie die map-Funktion mit einem Lambda-Operator und entscheiden Sie selbst, mit welchem Trennzeichen die Worte und Buchstaben voneinander separiert werden sollen."
   ]
  },
  {
   "cell_type": "code",
   "execution_count": null,
   "metadata": {},
   "outputs": [],
   "source": []
  }
 ],
 "metadata": {
  "kernelspec": {
   "display_name": "Python 3.7.7 64-bit",
   "language": "python",
   "name": "python3"
  },
  "language_info": {
   "codemirror_mode": {
    "name": "ipython",
    "version": 3
   },
   "file_extension": ".py",
   "mimetype": "text/x-python",
   "name": "python",
   "nbconvert_exporter": "python",
   "pygments_lexer": "ipython3",
   "version": "3.7.7"
  },
  "orig_nbformat": 4,
  "vscode": {
   "interpreter": {
    "hash": "1f2ac25b4a6d870602abfa5d74e7d6f1ae274ba9e86645830384575c0e5c89f3"
   }
  }
 },
 "nbformat": 4,
 "nbformat_minor": 2
}
