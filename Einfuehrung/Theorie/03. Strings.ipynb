{
 "cells": [
  {
   "cell_type": "markdown",
   "metadata": {},
   "source": [
    "# Strings"
   ]
  },
  {
   "cell_type": "markdown",
   "metadata": {
    "slideshow": {
     "slide_type": "slide"
    }
   },
   "source": [
    "Strings sind in Python ein eigener Datentyp. Das heisst, in Python existieren vordefinierte Regeln, wie ein String aufgebaut ist und was man damit tun kann. Daneben gibt es weitere Datentypen wie Ganzzahlen/Integers (int), Fliesskommazahlen/Floats (float) oder auch Wahrheitswerte/Booleans (bool).\n",
    "Um herauszufinden zu welchem Datentyp ein bestimmtes Objekt gehört, können Sie wie folgt vorgehen:"
   ]
  },
  {
   "cell_type": "code",
   "execution_count": 2,
   "metadata": {
    "slideshow": {
     "slide_type": "slide"
    }
   },
   "outputs": [
    {
     "data": {
      "text/plain": [
       "str"
      ]
     },
     "execution_count": 2,
     "metadata": {},
     "output_type": "execute_result"
    }
   ],
   "source": [
    "type('haus')"
   ]
  },
  {
   "cell_type": "code",
   "execution_count": 3,
   "metadata": {
    "slideshow": {
     "slide_type": "-"
    }
   },
   "outputs": [
    {
     "data": {
      "text/plain": [
       "int"
      ]
     },
     "execution_count": 3,
     "metadata": {},
     "output_type": "execute_result"
    }
   ],
   "source": [
    "type(2)"
   ]
  },
  {
   "cell_type": "markdown",
   "metadata": {
    "slideshow": {
     "slide_type": "slide"
    }
   },
   "source": [
    "Wenn Sie innerhalb einer Bedingung sicherstellen wollen, dass ein Objekt zu einem bestimmten Datentyp gehört, können Sie beispielsweise folgendes machen"
   ]
  },
  {
   "cell_type": "code",
   "execution_count": 4,
   "metadata": {},
   "outputs": [
    {
     "name": "stdout",
     "output_type": "stream",
     "text": [
      "'haus' ist ein String\n"
     ]
    }
   ],
   "source": [
    "if type('haus') == str:\n",
    "    print(\"'haus' ist ein String\")"
   ]
  },
  {
   "cell_type": "markdown",
   "metadata": {
    "slideshow": {
     "slide_type": "slide"
    }
   },
   "source": [
    "Eleganter ist es jedoch, wenn Sie fragen, ob 'haus' eine Instanz der Klasse String ist. Was genau Klassen sind, werden wir später anschauen. Es genügt zu wissen, dass alle Datentypen in Python je eine Klasse bilden."
   ]
  },
  {
   "cell_type": "code",
   "execution_count": 5,
   "metadata": {},
   "outputs": [
    {
     "name": "stdout",
     "output_type": "stream",
     "text": [
      "'haus' ist ein String\n"
     ]
    }
   ],
   "source": [
    "if isinstance('haus',str):\n",
    "    print(\"'haus' ist ein String\")"
   ]
  },
  {
   "cell_type": "markdown",
   "metadata": {
    "slideshow": {
     "slide_type": "slide"
    }
   },
   "source": [
    "Ein String ist eine Folge von Zeichen. Auf die einzelnen Zeichen könen Sie mit dem Klammer-Operator zugreifen:"
   ]
  },
  {
   "cell_type": "code",
   "execution_count": 1,
   "metadata": {},
   "outputs": [
    {
     "name": "stdout",
     "output_type": "stream",
     "text": [
      "a\n"
     ]
    }
   ],
   "source": [
    "frucht = 'banane'\n",
    "zeichen = frucht[1]\n",
    "print(zeichen)"
   ]
  },
  {
   "cell_type": "markdown",
   "metadata": {},
   "source": [
    "Die zweite Anweisung wählt ein Zeichen aus *frucht* und weist es der Variable *zeichen* zu."
   ]
  },
  {
   "cell_type": "markdown",
   "metadata": {
    "slideshow": {
     "slide_type": "slide"
    }
   },
   "source": [
    "Den Ausdruck in eckigen Klammern nennt man **Index**. Der Index gibt an, welches Zeichen Sie aus der Folge auslesen möchten (quasi wie ein Name)."
   ]
  },
  {
   "cell_type": "markdown",
   "metadata": {
    "slideshow": {
     "slide_type": "slide"
    }
   },
   "source": [
    "Unter Umständen erhalten Sie nicht, was Sie erwarten:"
   ]
  },
  {
   "cell_type": "code",
   "execution_count": 2,
   "metadata": {},
   "outputs": [
    {
     "name": "stdout",
     "output_type": "stream",
     "text": [
      "a\n"
     ]
    }
   ],
   "source": [
    "frucht = 'banane'\n",
    "zeichen = frucht[1]\n",
    "print(zeichen)"
   ]
  },
  {
   "cell_type": "markdown",
   "metadata": {},
   "source": [
    "Der Index beginnt stets bei 0. Der erste Buchstabe hat daher Index 0, der vierte Buchstabe entsprechend den Index 3 usw."
   ]
  },
  {
   "cell_type": "markdown",
   "metadata": {
    "slideshow": {
     "slide_type": "slide"
    }
   },
   "source": [
    "## Indices "
   ]
  },
  {
   "cell_type": "markdown",
   "metadata": {},
   "source": [
    "Sie können beliebige Ausdrücke als Index verwenden, einschliesslich Variablen und Operatoren. Der Indexwert muss aber ein Integer sein."
   ]
  },
  {
   "cell_type": "code",
   "execution_count": 3,
   "metadata": {},
   "outputs": [
    {
     "name": "stdout",
     "output_type": "stream",
     "text": [
      "e\n"
     ]
    }
   ],
   "source": [
    "frucht = \"apfel\"\n",
    "zeichen = frucht[1+2]\n",
    "print(zeichen)"
   ]
  },
  {
   "cell_type": "markdown",
   "metadata": {
    "slideshow": {
     "slide_type": "slide"
    }
   },
   "source": [
    "Folgendes Programm gibt Ihnen ein Wort Zeichenweise aus:"
   ]
  },
  {
   "cell_type": "code",
   "execution_count": 8,
   "metadata": {
    "slideshow": {
     "slide_type": "-"
    }
   },
   "outputs": [
    {
     "name": "stdout",
     "output_type": "stream",
     "text": [
      "I\n",
      "n\n",
      "f\n",
      "o\n",
      "r\n",
      "m\n",
      "a\n",
      "t\n",
      "i\n",
      "k\n"
     ]
    }
   ],
   "source": [
    "wort = input('Geben Sie ein Wort ein: ')\n",
    "for i in range(len(wort)):\n",
    "    print(wort[i])"
   ]
  },
  {
   "cell_type": "markdown",
   "metadata": {
    "slideshow": {
     "slide_type": "-"
    }
   },
   "source": [
    "Hier erhält der Index i für ein Wort der Länge n nacheinander die Werte von 0 bis n-1 zugewiesen."
   ]
  },
  {
   "cell_type": "markdown",
   "metadata": {
    "slideshow": {
     "slide_type": "slide"
    }
   },
   "source": [
    "## Traversierung"
   ]
  },
  {
   "cell_type": "markdown",
   "metadata": {},
   "source": [
    "Einen Vorgang, bei dem man einen String Zeichen für Zeichen einzeln auswählt und verarbeitet, nennt man **Traversierung**. \n",
    "Das Beispiel vorher sollte illustrieren, wie man Indices aus Variablen nutzen kann. Die selbe Aufgabe kann aber wesentlich einfacher mit folgender for-Schlaufe erledigt werden:"
   ]
  },
  {
   "cell_type": "code",
   "execution_count": 9,
   "metadata": {
    "slideshow": {
     "slide_type": "slide"
    }
   },
   "outputs": [
    {
     "name": "stdout",
     "output_type": "stream",
     "text": [
      "I\n",
      "n\n",
      "f\n",
      "o\n"
     ]
    }
   ],
   "source": [
    "wort = input('Geben Sie ein Wort ein: ')\n",
    "for i in wort:\n",
    "    print(i)"
   ]
  },
  {
   "cell_type": "markdown",
   "metadata": {
    "slideshow": {
     "slide_type": "-"
    }
   },
   "source": [
    "Diese Vorgehensweise ist möglich, weil ein String eine besondere Datenstruktur ist."
   ]
  },
  {
   "cell_type": "markdown",
   "metadata": {
    "slideshow": {
     "slide_type": "slide"
    }
   },
   "source": [
    "## Index und Wortlängen"
   ]
  },
  {
   "cell_type": "markdown",
   "metadata": {},
   "source": [
    "Wie Sie aus dem Beispiel von vorher und den Übungen bereits wissen, können Sie mit *len(wort)* die Länge (Anzahl Zeichen) eines Wortes bestimmen. "
   ]
  },
  {
   "cell_type": "markdown",
   "metadata": {
    "slideshow": {
     "slide_type": "slide"
    }
   },
   "source": [
    " Beachten Sie aber, dass"
   ]
  },
  {
   "cell_type": "code",
   "execution_count": 10,
   "metadata": {},
   "outputs": [
    {
     "ename": "IndexError",
     "evalue": "string index out of range",
     "output_type": "error",
     "traceback": [
      "\u001b[1;31m---------------------------------------------------------------------------\u001b[0m",
      "\u001b[1;31mIndexError\u001b[0m                                Traceback (most recent call last)",
      "\u001b[1;32m~\\AppData\\Local\\Temp\\ipykernel_24088\\2520756949.py\u001b[0m in \u001b[0;36m<module>\u001b[1;34m\u001b[0m\n\u001b[1;32m----> 1\u001b[1;33m \u001b[0mzeichen\u001b[0m \u001b[1;33m=\u001b[0m \u001b[0mwort\u001b[0m\u001b[1;33m[\u001b[0m\u001b[0mlen\u001b[0m\u001b[1;33m(\u001b[0m\u001b[0mwort\u001b[0m\u001b[1;33m)\u001b[0m\u001b[1;33m]\u001b[0m\u001b[1;33m\u001b[0m\u001b[1;33m\u001b[0m\u001b[0m\n\u001b[0m\u001b[0;32m      2\u001b[0m \u001b[0mprint\u001b[0m\u001b[1;33m(\u001b[0m\u001b[0mzeichen\u001b[0m\u001b[1;33m)\u001b[0m\u001b[1;33m\u001b[0m\u001b[1;33m\u001b[0m\u001b[0m\n",
      "\u001b[1;31mIndexError\u001b[0m: string index out of range"
     ]
    }
   ],
   "source": [
    "zeichen = wort[len(wort)]\n",
    "print(zeichen)"
   ]
  },
  {
   "cell_type": "markdown",
   "metadata": {},
   "source": [
    "in jedem Fall einen Fehler ausgibt. Warum denn?"
   ]
  },
  {
   "cell_type": "markdown",
   "metadata": {
    "slideshow": {
     "slide_type": "slide"
    }
   },
   "source": [
    "Wenn Sie den letzten Buchstaben ausgeben wollen, können Sie das entweder mit"
   ]
  },
  {
   "cell_type": "code",
   "execution_count": 11,
   "metadata": {},
   "outputs": [
    {
     "name": "stdout",
     "output_type": "stream",
     "text": [
      "o\n"
     ]
    }
   ],
   "source": [
    "letzterBuchstabe = wort[len(wort)-1]\n",
    "print(letzterBuchstabe)"
   ]
  },
  {
   "cell_type": "markdown",
   "metadata": {
    "slideshow": {
     "slide_type": "slide"
    }
   },
   "source": [
    "oder wesentlich einfacher mit dem negativen Index -1 machen:"
   ]
  },
  {
   "cell_type": "code",
   "execution_count": 13,
   "metadata": {},
   "outputs": [
    {
     "name": "stdout",
     "output_type": "stream",
     "text": [
      "f\n"
     ]
    }
   ],
   "source": [
    "letzterBuchstabe = wort[-2]\n",
    "print(letzterBuchstabe)"
   ]
  },
  {
   "cell_type": "markdown",
   "metadata": {},
   "source": [
    "Bei negativen Indices wird das Wort quasi von hinten her gelesen."
   ]
  },
  {
   "cell_type": "markdown",
   "metadata": {},
   "source": [
    "Aufgaben 1 und 2"
   ]
  },
  {
   "cell_type": "markdown",
   "metadata": {
    "slideshow": {
     "slide_type": "slide"
    }
   },
   "source": [
    "## Operatoren für Strings"
   ]
  },
  {
   "cell_type": "markdown",
   "metadata": {},
   "source": [
    "Bereits vor einiger Zeit haben Sie die Operatoren * und + kennen gelernt und auch erfahren, dass diese auf Strings angewendet werden können. "
   ]
  },
  {
   "cell_type": "markdown",
   "metadata": {
    "slideshow": {
     "slide_type": "slide"
    }
   },
   "source": [
    "Zur Erinnerung:\n",
    "Mit dem +-Operator können zwei Strings aneinandergehängt (konkateniert) werden:"
   ]
  },
  {
   "cell_type": "code",
   "execution_count": 4,
   "metadata": {},
   "outputs": [
    {
     "name": "stdout",
     "output_type": "stream",
     "text": [
      "hausdach\n"
     ]
    }
   ],
   "source": [
    "wort='haus'+'dach'\n",
    "print(wort)"
   ]
  },
  {
   "cell_type": "markdown",
   "metadata": {
    "slideshow": {
     "slide_type": "slide"
    }
   },
   "source": [
    "Mit dem *-Operator können Strings x-fach kopiert werden. "
   ]
  },
  {
   "cell_type": "code",
   "execution_count": 5,
   "metadata": {},
   "outputs": [
    {
     "name": "stdout",
     "output_type": "stream",
     "text": [
      "wortwortwort\n"
     ]
    }
   ],
   "source": [
    "a = 'wort'*3\n",
    "print(a)"
   ]
  },
  {
   "cell_type": "markdown",
   "metadata": {
    "slideshow": {
     "slide_type": "slide"
    }
   },
   "source": [
    "## String-Teile - Slices"
   ]
  },
  {
   "cell_type": "markdown",
   "metadata": {
    "slideshow": {
     "slide_type": "slide"
    }
   },
   "source": [
    "Ein Segment eines Strings nennt man **Slice**. Die Auswahl eines Slices ist der Auswahl eines Zeichens recht ähnlich:"
   ]
  },
  {
   "cell_type": "code",
   "execution_count": 8,
   "metadata": {
    "scrolled": true
   },
   "outputs": [
    {
     "name": "stdout",
     "output_type": "stream",
     "text": [
      "Erste 5 Zeichen: Monty Python\n",
      "letzte 6 Zeichen: Python\n"
     ]
    }
   ],
   "source": [
    "s='Monty Python'\n",
    "print('Erste 5 Zeichen:',s[:5])\n",
    "print('letzte 6 Zeichen:',s[6:])"
   ]
  },
  {
   "cell_type": "markdown",
   "metadata": {},
   "source": [
    "Der Operator [n:m] gibt den Teil des Strings vom n-ten bis zum m-ten Zeichen zurück, **einschliesslich des ersten**, aber **ausschliesslich des Letzten Zeichens**."
   ]
  },
  {
   "cell_type": "markdown",
   "metadata": {
    "slideshow": {
     "slide_type": "slide"
    }
   },
   "source": [
    "Wenn Sie den ersten Index (vor dem Doppelpunkt) weglassen, beginnt das Slice am Anfang des Strings. Lassen Sie den zweiten Index weg, reicht das Slice bis zum Ende des Strings:"
   ]
  },
  {
   "cell_type": "code",
   "execution_count": 9,
   "metadata": {},
   "outputs": [
    {
     "data": {
      "text/plain": [
       "'ban'"
      ]
     },
     "execution_count": 9,
     "metadata": {},
     "output_type": "execute_result"
    }
   ],
   "source": [
    "frucht = 'banane'\n",
    "frucht[:3]"
   ]
  },
  {
   "cell_type": "code",
   "execution_count": 10,
   "metadata": {},
   "outputs": [
    {
     "data": {
      "text/plain": [
       "'ane'"
      ]
     },
     "execution_count": 10,
     "metadata": {},
     "output_type": "execute_result"
    }
   ],
   "source": [
    "frucht[3:]"
   ]
  },
  {
   "cell_type": "markdown",
   "metadata": {
    "slideshow": {
     "slide_type": "slide"
    }
   },
   "source": [
    "Ist der erste Index grösser oder gleich dem zweiten Index, erhalten Sie als Ergebnis einen **Leerstring**, der durch zwei Apostrophe gekennzeichnet wird."
   ]
  },
  {
   "cell_type": "code",
   "execution_count": 11,
   "metadata": {},
   "outputs": [
    {
     "data": {
      "text/plain": [
       "''"
      ]
     },
     "execution_count": 11,
     "metadata": {},
     "output_type": "execute_result"
    }
   ],
   "source": [
    "frucht[3:3]"
   ]
  },
  {
   "cell_type": "code",
   "execution_count": 12,
   "metadata": {},
   "outputs": [
    {
     "data": {
      "text/plain": [
       "''"
      ]
     },
     "execution_count": 12,
     "metadata": {},
     "output_type": "execute_result"
    }
   ],
   "source": [
    "frucht[6:2]"
   ]
  },
  {
   "cell_type": "markdown",
   "metadata": {
    "slideshow": {
     "slide_type": "slide"
    }
   },
   "source": [
    "## Strings sind unveränderbar"
   ]
  },
  {
   "cell_type": "markdown",
   "metadata": {
    "slideshow": {
     "slide_type": "notes"
    }
   },
   "source": [
    "Die Versuchung ist gross, einen String zu verändern, indem man einem einzelnen Zeichen einen neuen Wert zuordnet:"
   ]
  },
  {
   "cell_type": "code",
   "execution_count": 13,
   "metadata": {
    "slideshow": {
     "slide_type": "fragment"
    }
   },
   "outputs": [
    {
     "ename": "TypeError",
     "evalue": "'str' object does not support item assignment",
     "output_type": "error",
     "traceback": [
      "\u001b[1;31m---------------------------------------------------------------------------\u001b[0m",
      "\u001b[1;31mTypeError\u001b[0m                                 Traceback (most recent call last)",
      "\u001b[1;32m~\\AppData\\Local\\Temp\\ipykernel_17032\\3877941416.py\u001b[0m in \u001b[0;36m<module>\u001b[1;34m\u001b[0m\n\u001b[0;32m      1\u001b[0m \u001b[0mgruss\u001b[0m\u001b[1;33m=\u001b[0m\u001b[1;34m'Hallo Welt!'\u001b[0m\u001b[1;33m\u001b[0m\u001b[1;33m\u001b[0m\u001b[0m\n\u001b[1;32m----> 2\u001b[1;33m \u001b[0mgruss\u001b[0m\u001b[1;33m[\u001b[0m\u001b[1;36m1\u001b[0m\u001b[1;33m]\u001b[0m\u001b[1;33m=\u001b[0m\u001b[1;34m'e'\u001b[0m\u001b[1;33m\u001b[0m\u001b[1;33m\u001b[0m\u001b[0m\n\u001b[0m",
      "\u001b[1;31mTypeError\u001b[0m: 'str' object does not support item assignment"
     ]
    }
   ],
   "source": [
    "gruss='Hallo Welt!'\n",
    "gruss[1]='e'"
   ]
  },
  {
   "cell_type": "markdown",
   "metadata": {
    "slideshow": {
     "slide_type": "notes"
    }
   },
   "source": [
    "Offenbar können Strings so nicht verändert werden. Ganz generell sind Strings sogenannte unveränderbare **Objekte**. \n",
    "\n",
    "Strings können Sie also nicht verändern, aber sie können sie kopieren und neue Strings erzeugen. Dafür gibt es verschiedene Varianten.\n",
    "\n",
    "Beispielsweise kann man Anfangsslices oder Endslices bequem ersetzen:"
   ]
  },
  {
   "cell_type": "code",
   "execution_count": 14,
   "metadata": {
    "slideshow": {
     "slide_type": "slide"
    }
   },
   "outputs": [
    {
     "name": "stdout",
     "output_type": "stream",
     "text": [
      "Wallo Welt!\n"
     ]
    }
   ],
   "source": [
    "gruss = 'W'+gruss[1:]\n",
    "print(gruss)"
   ]
  },
  {
   "cell_type": "markdown",
   "metadata": {
    "slideshow": {
     "slide_type": "notes"
    }
   },
   "source": [
    "Man kann aber auch Methoden der Klasse String verwenden."
   ]
  },
  {
   "cell_type": "markdown",
   "metadata": {
    "slideshow": {
     "slide_type": "slide"
    }
   },
   "source": [
    "## Die Klasse String\n",
    "\n",
    "Strings sind Objekte der Klasse **String**. In Klassen werden Objekte definiert. Das heisst, man definiert, was für Eigenschaften (mittels sogenannter Instanzvariablen) und Fähigkeiten (mittels Methoden) ein bestimmtes Objekt hat. "
   ]
  },
  {
   "cell_type": "markdown",
   "metadata": {
    "slideshow": {
     "slide_type": "notes"
    }
   },
   "source": [
    "Wir werden die Details dazu später genau anschauen und wir werden auch sehen, wie man selbst neue Klassen definieren kann.\n",
    "Für den Moment genügt es, wenn Sie wissen, dass Strings zur Klasse String (bzw str) gehören und daher einige Methoden mit sich bringen."
   ]
  },
  {
   "cell_type": "markdown",
   "metadata": {
    "slideshow": {
     "slide_type": "slide"
    }
   },
   "source": [
    "## Beispiele:"
   ]
  },
  {
   "cell_type": "code",
   "execution_count": 16,
   "metadata": {
    "slideshow": {
     "slide_type": "fragment"
    }
   },
   "outputs": [
    {
     "name": "stdout",
     "output_type": "stream",
     "text": [
      "HALLO WELT\n",
      "ES\n"
     ]
    }
   ],
   "source": [
    "gruss = 'Hallo Welt'\n",
    "gruss_gross = gruss.upper()\n",
    "print(gruss_gross)\n",
    "print(\"es\".upper())"
   ]
  },
  {
   "cell_type": "code",
   "execution_count": 17,
   "metadata": {
    "slideshow": {
     "slide_type": "fragment"
    }
   },
   "outputs": [
    {
     "name": "stdout",
     "output_type": "stream",
     "text": [
      "hallo welt\n"
     ]
    }
   ],
   "source": [
    "gruss_klein = gruss.lower()\n",
    "print(gruss_klein)"
   ]
  },
  {
   "cell_type": "code",
   "execution_count": 21,
   "metadata": {
    "slideshow": {
     "slide_type": "slide"
    }
   },
   "outputs": [
    {
     "name": "stdout",
     "output_type": "stream",
     "text": [
      "pallo Welt\n"
     ]
    }
   ],
   "source": [
    "gruss =gruss.replace('H','p')\n",
    "print(gruss)"
   ]
  },
  {
   "cell_type": "markdown",
   "metadata": {
    "slideshow": {
     "slide_type": "fragment"
    }
   },
   "source": [
    "Sie werden in den Übungen noch viele weitere Methoden der Klasse String kennenlernen"
   ]
  },
  {
   "cell_type": "markdown",
   "metadata": {},
   "source": [
    "Aufgaben 3, 4"
   ]
  },
  {
   "cell_type": "markdown",
   "metadata": {
    "slideshow": {
     "slide_type": "slide"
    }
   },
   "source": [
    "# Standardverfahren auf Strings"
   ]
  },
  {
   "cell_type": "markdown",
   "metadata": {
    "slideshow": {
     "slide_type": "-"
    }
   },
   "source": [
    "Die Klasse String kommt mit vielen nützlichen Methoden daher. Trotzdem lohnt es sich zu schauen, wie man einige dieser Methoden selbst in Form von Funktionen definieren kann."
   ]
  },
  {
   "cell_type": "markdown",
   "metadata": {
    "slideshow": {
     "slide_type": "slide"
    }
   },
   "source": [
    "An welcher Stelle im Wort kommt ein bestimmter Buchstabe das erste Mal vor?"
   ]
  },
  {
   "cell_type": "code",
   "execution_count": null,
   "metadata": {
    "slideshow": {
     "slide_type": "slide"
    }
   },
   "outputs": [],
   "source": [
    "def suche(wort, zeichen):\n",
    "    index = 0 \n",
    "    while index < len(wort):\n",
    "        if wort[index] == zeichen:\n",
    "            return index\n",
    "        index +=1\n",
    "    return -1\n",
    "\n",
    "print(suche('hamsterrad','r'))"
   ]
  },
  {
   "cell_type": "markdown",
   "metadata": {
    "slideshow": {
     "slide_type": "slide"
    }
   },
   "source": [
    "Wie häufig kommt ein Buchstabe im Wort vor?"
   ]
  },
  {
   "cell_type": "code",
   "execution_count": null,
   "metadata": {
    "slideshow": {
     "slide_type": "slide"
    }
   },
   "outputs": [],
   "source": [
    "def zeichen_in_wort(wort, zeichen):\n",
    "    anzahl = 0\n",
    "    for buchstabe in wort:\n",
    "        if buchstabe == zeichen:\n",
    "            anzahl +=1\n",
    "    return anzahl\n",
    "\n",
    "print(zeichen_in_wort('hamsterrad','r'))"
   ]
  },
  {
   "cell_type": "markdown",
   "metadata": {},
   "source": [
    "Aufgabe 5"
   ]
  },
  {
   "cell_type": "markdown",
   "metadata": {
    "slideshow": {
     "slide_type": "slide"
    }
   },
   "source": [
    "## Der in-Operator\n"
   ]
  },
  {
   "cell_type": "markdown",
   "metadata": {
    "slideshow": {
     "slide_type": "notes"
    }
   },
   "source": [
    "Sie haben bereits den Booleschen Operator $is$ kennengelernt (z.B. bei if type('haus') is str). Einen ähnlichen Operator gibt es auch auf Strings. Mit dem $in$ Operator können sie prüfen, ob ein bestimmtes Zeichen innerhalb eines Strings vorkommt."
   ]
  },
  {
   "cell_type": "code",
   "execution_count": null,
   "metadata": {},
   "outputs": [],
   "source": [
    "print('a' in 'banane')"
   ]
  },
  {
   "cell_type": "markdown",
   "metadata": {
    "slideshow": {
     "slide_type": "slide"
    }
   },
   "source": [
    "## Strings vergleichen"
   ]
  },
  {
   "cell_type": "markdown",
   "metadata": {
    "slideshow": {
     "slide_type": "notes"
    }
   },
   "source": [
    "Die Vergleichsoperatoren ==, <, > können dazu verwendet werden, Strings zu vergleichen.\n",
    "\n",
    "* == testet auf Gleichheit der Strings (nicht der Objekte) und berücksichtigt Gross-Kleinschreibung (ist also case-sensitiv). \n",
    "* < und > beziehen sich auf die alphabetische Ordnung"
   ]
  },
  {
   "cell_type": "code",
   "execution_count": null,
   "metadata": {},
   "outputs": [],
   "source": [
    "print('banane'<'Birne')"
   ]
  },
  {
   "cell_type": "markdown",
   "metadata": {
    "slideshow": {
     "slide_type": "slide"
    }
   },
   "source": [
    "## Strings kopieren oder umdrehen"
   ]
  },
  {
   "cell_type": "markdown",
   "metadata": {
    "slideshow": {
     "slide_type": "-"
    }
   },
   "source": [
    "Sie werden in den Aufgaben viele Methoden der Klasse String kennenlernen. Eine sei hier aber noch besonders erwähnt: Mit der Hilfe von einem speziellen Slice können Sie einen String erzeugen, der die Reihenfolge der Buchstaben eines Wortes umdreht."
   ]
  },
  {
   "cell_type": "code",
   "execution_count": null,
   "metadata": {
    "slideshow": {
     "slide_type": "slide"
    }
   },
   "outputs": [],
   "source": [
    "wort = 'banane'\n",
    "trow = wort[::-1]\n",
    "print(trow)"
   ]
  },
  {
   "cell_type": "markdown",
   "metadata": {},
   "source": [
    "Aufgaben 6, 7, 8"
   ]
  },
  {
   "cell_type": "markdown",
   "metadata": {
    "slideshow": {
     "slide_type": "slide"
    }
   },
   "source": [
    "## Formatierte Ausgaben"
   ]
  },
  {
   "cell_type": "markdown",
   "metadata": {},
   "source": [
    "Wenn Sie in der Konsole oder sonst in einem Ausgabefenster einen Text ausgeben wollen, nutzen Sie die Funktion print(). Dabei können Sie grundsätzlich so vorgehen, dass Sie der Funktion eine Menge an Strings oder andere Objekte, die durch Kommas separiert werden, übergeben:"
   ]
  },
  {
   "cell_type": "code",
   "execution_count": null,
   "metadata": {
    "slideshow": {
     "slide_type": "slide"
    }
   },
   "outputs": [],
   "source": [
    "for i in [1, 100, 1000]:\n",
    "    print(\"eine Gleichung:\", i,'+',2,'=',i+2)"
   ]
  },
  {
   "cell_type": "markdown",
   "metadata": {
    "slideshow": {
     "slide_type": "slide"
    }
   },
   "source": [
    "Eine andere und etwas schöner anmutende Variante ist es, dass Sie den auszugebenden String formatieren. Es gibt mehrere Varianten dazu, wir schauen uns die Variante mit *str.format()* an.\n",
    "Ein erstes Beispiel:"
   ]
  },
  {
   "cell_type": "code",
   "execution_count": null,
   "metadata": {},
   "outputs": [],
   "source": [
    "print(\"Hallo {}, kennst Du schon {}?\".format('Heidi', 'Peter'))"
   ]
  },
  {
   "cell_type": "markdown",
   "metadata": {
    "slideshow": {
     "slide_type": "slide"
    }
   },
   "source": [
    "Im String stehen Platzhalter {}. Diese werden durch die Argumente von format() nacheinander ersetzt. \n",
    "Will man eine andere Ersetzungsreihenfolge haben, so geht das ganz einfach:"
   ]
  },
  {
   "cell_type": "code",
   "execution_count": null,
   "metadata": {},
   "outputs": [],
   "source": [
    "print(\"Hallo {1}, kennst Du schon {0}?\".format('Heidi', 'Peter'))"
   ]
  },
  {
   "cell_type": "markdown",
   "metadata": {
    "slideshow": {
     "slide_type": "slide"
    }
   },
   "source": [
    "Man kann diese String-Methode auch nutzen, um mehrere Ausgaben zu erzeugen, die aus Listen entstehen:"
   ]
  },
  {
   "cell_type": "code",
   "execution_count": null,
   "metadata": {},
   "outputs": [],
   "source": [
    "for i in [1, 100, 1000]:\n",
    "    print(\"eine Gleichung: {}+2={}\".format(i,i+2))"
   ]
  },
  {
   "cell_type": "markdown",
   "metadata": {
    "slideshow": {
     "slide_type": "slide"
    }
   },
   "source": [
    "Zusätzlich kann man bestimmen, wie die Ersetzungen dargestellt werden sollen. In folgendem Beispiel soll jede Zahl der Liste mit einer Breite von 4 Ziffern dargestellt werden. Die Reihenfolge ist dabei umgestellt. Zuerst soll die zweite Zahl der Klammer und dann erst die erste Zahl der Klammer ausgegeben werden. "
   ]
  },
  {
   "cell_type": "code",
   "execution_count": null,
   "metadata": {
    "slideshow": {
     "slide_type": "slide"
    }
   },
   "outputs": [],
   "source": [
    "for i in [1, 100, 1000]:\n",
    "    print(\"eine Gleichung: {1:4d}+2={0:4d}\".format(i+2,i))"
   ]
  },
  {
   "cell_type": "markdown",
   "metadata": {
    "slideshow": {
     "slide_type": "slide"
    }
   },
   "source": [
    "Weiteres\n",
    "- Hat es weniger Elemente in der Klammer als Klammern im String, wird ein Fehler ausgegeben. "
   ]
  },
  {
   "cell_type": "markdown",
   "metadata": {},
   "source": [
    "- Innerhalb des Strings gibt es weitere Sonderzeichen. Die wichtigsten sind:\n",
    "   - \\n: neue Zeile\n",
    "   - \\\\\\\\: Backslash\n",
    "   - \\\\' bzw \\\\\": entsprechende Anführungstriche\n",
    "   - \\t: horizontaler Tabulator"
   ]
  },
  {
   "cell_type": "markdown",
   "metadata": {},
   "source": [
    "Aufgabe 9"
   ]
  }
 ],
 "metadata": {
  "celltoolbar": "Slideshow",
  "kernelspec": {
   "display_name": "Python 3",
   "language": "python",
   "name": "python3"
  },
  "language_info": {
   "codemirror_mode": {
    "name": "ipython",
    "version": 3
   },
   "file_extension": ".py",
   "mimetype": "text/x-python",
   "name": "python",
   "nbconvert_exporter": "python",
   "pygments_lexer": "ipython3",
   "version": "3.7.7"
  }
 },
 "nbformat": 4,
 "nbformat_minor": 2
}
