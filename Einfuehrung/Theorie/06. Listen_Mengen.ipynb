{
 "cells": [
  {
   "cell_type": "markdown",
   "metadata": {},
   "source": [
    "# Listen und Mengen, Aliasing \n",
    "## Listen"
   ]
  },
  {
   "cell_type": "markdown",
   "metadata": {},
   "source": [
    "### Eine Liste ist eine Sequenz"
   ]
  },
  {
   "cell_type": "markdown",
   "metadata": {},
   "source": [
    "Genau wie ein String ist eine Liste eine Folge von Werten. In einem String sind diese Werte Zeichen, in einer Liste können die Werte irgend einen Typ haben. Dabei müssen auch nicht alle Werte vom gleichen Typ sein."
   ]
  },
  {
   "cell_type": "code",
   "execution_count": null,
   "metadata": {},
   "outputs": [],
   "source": [
    "irgendetwas = [3, 'haus', [3, 4]]\n",
    "print(irgendetwas)"
   ]
  },
  {
   "cell_type": "markdown",
   "metadata": {},
   "source": [
    "irgendetwas ist also eine Liste mit den Elementen: 3 (Integer), 'haus' (String) und [3,4] (list)"
   ]
  },
  {
   "cell_type": "markdown",
   "metadata": {},
   "source": [
    "Listen, die Elemente von anderen Listen sind, nennt man **verschachtelt**"
   ]
  },
  {
   "cell_type": "markdown",
   "metadata": {},
   "source": [
    "Eine Liste, die keine Elemente enthält bezeichnet man als **leere Liste**. Eine leere Liste kann man zum Beispiel wie folgt erzeugen:"
   ]
  },
  {
   "cell_type": "code",
   "execution_count": null,
   "metadata": {},
   "outputs": [],
   "source": [
    "leere_liste1 = []\n",
    "leere_liste2 = list()"
   ]
  },
  {
   "cell_type": "markdown",
   "metadata": {},
   "source": [
    "Im Gegensatz zu Strings sind Listen veränderbar. Einzelne Elemente können geändert werden:"
   ]
  },
  {
   "cell_type": "code",
   "execution_count": null,
   "metadata": {},
   "outputs": [],
   "source": [
    "liste = [2,3,4]\n",
    "print(liste)\n",
    "liste[1] = 6\n",
    "print(liste)"
   ]
  },
  {
   "cell_type": "markdown",
   "metadata": {},
   "source": [
    "### Elemente hinzufügen oder löschen\n",
    "Es gibt Methoden, mit denen Sie Elemente hinzufügen oder löschen können:"
   ]
  },
  {
   "cell_type": "code",
   "execution_count": null,
   "metadata": {},
   "outputs": [],
   "source": [
    "liste = [1, 2, 3, 4, 5, 6]\n",
    "liste.append('neues Element')\n",
    "print(liste)\n",
    "liste.extend([7,9])\n",
    "print(liste)"
   ]
  },
  {
   "cell_type": "code",
   "execution_count": null,
   "metadata": {},
   "outputs": [],
   "source": [
    "a = liste.pop(2)\n",
    "print(liste)\n",
    "print(a)"
   ]
  },
  {
   "cell_type": "code",
   "execution_count": null,
   "metadata": {},
   "outputs": [],
   "source": [
    "del liste[2]\n",
    "print(liste)"
   ]
  },
  {
   "cell_type": "code",
   "execution_count": null,
   "metadata": {},
   "outputs": [],
   "source": [
    "liste.remove(2)\n",
    "print(liste)"
   ]
  },
  {
   "cell_type": "code",
   "execution_count": null,
   "metadata": {},
   "outputs": [],
   "source": [
    "liste.extend([11,23,45,67])\n",
    "print(liste)\n",
    "del liste[2:4]\n",
    "print(liste)"
   ]
  },
  {
   "cell_type": "markdown",
   "metadata": {},
   "source": [
    "Der in-Operator funktioniert auch mit Listen"
   ]
  },
  {
   "cell_type": "code",
   "execution_count": null,
   "metadata": {},
   "outputs": [],
   "source": [
    "mathe = ['Algebra', 'Analysis', 'Geometrie', 'Statistik']\n",
    "'Algebra' in mathe"
   ]
  },
  {
   "cell_type": "markdown",
   "metadata": {},
   "source": [
    "### Listen durchlaufen"
   ]
  },
  {
   "cell_type": "markdown",
   "metadata": {},
   "source": [
    "Listen können in bekannter Form mit einer for-Schleife durchlaufen werden "
   ]
  },
  {
   "cell_type": "code",
   "execution_count": null,
   "metadata": {},
   "outputs": [],
   "source": [
    "for elem in liste:\n",
    "    print(elem)"
   ]
  },
  {
   "cell_type": "markdown",
   "metadata": {},
   "source": [
    "Falls Sie aber die einzelnen Elemente nicht nur sichten, sondern bearbeiten wollen, brauchen sie den entsprechenden Index. Dies ist möglich, indem Sie die Funktionen len und range() kombinieren:"
   ]
  },
  {
   "cell_type": "code",
   "execution_count": null,
   "metadata": {},
   "outputs": [],
   "source": [
    "for i in range(len(liste)):\n",
    "    liste[i] = liste[i]*2\n",
    "print(liste)"
   ]
  },
  {
   "cell_type": "markdown",
   "metadata": {},
   "source": [
    "Beachten Sie bitte, dass der Wert von len(liste) der Anzahl der Elemente von liste entspricht, wobei verschachtelte Listen als ein Element gezählt werden:"
   ]
  },
  {
   "cell_type": "code",
   "execution_count": null,
   "metadata": {},
   "outputs": [],
   "source": [
    "liste_neu = [1, 2, [3, 4, 5]]\n",
    "print(len(liste_neu))"
   ]
  },
  {
   "cell_type": "markdown",
   "metadata": {},
   "source": [
    "Theoretisch könnten Sie, wenn Sie den Index benötigen, trotzdem klassisch auf die Listenelemente zurgreifen und dann wie folgt auf den Index zugreifen."
   ]
  },
  {
   "cell_type": "code",
   "execution_count": null,
   "metadata": {},
   "outputs": [],
   "source": [
    "for elem in liste:\n",
    "    print(elem, liste.index(elem))"
   ]
  },
  {
   "cell_type": "markdown",
   "metadata": {},
   "source": [
    "Das funktioniert allerdings nur, wenn alle Elemente unterschiedlich sind, da index jeweils den Index des ersten Auftretens eines Elements zurückgibt."
   ]
  },
  {
   "cell_type": "markdown",
   "metadata": {},
   "source": [
    "### Operationen mit Listen\n",
    "Die Operatoren + und * funktionieren auf Listen gleich wie auf Strings:"
   ]
  },
  {
   "cell_type": "code",
   "execution_count": null,
   "metadata": {},
   "outputs": [],
   "source": [
    "a = [1, 2, 3]\n",
    "b = [4, 5, 6]\n",
    "print(a+b)\n",
    "print(a)"
   ]
  },
  {
   "cell_type": "code",
   "execution_count": null,
   "metadata": {},
   "outputs": [],
   "source": [
    "a = [0, 42]*4\n",
    "print(a)"
   ]
  },
  {
   "cell_type": "markdown",
   "metadata": {},
   "source": [
    "### Listen-Slices\n",
    "Slices gibts auch auf Listen und sie funktionieren dort gleich wie auf Strings:"
   ]
  },
  {
   "cell_type": "code",
   "execution_count": null,
   "metadata": {},
   "outputs": [],
   "source": [
    "t = ['a','b','c','d','e','f']\n",
    "t[1:3]"
   ]
  },
  {
   "cell_type": "code",
   "execution_count": null,
   "metadata": {},
   "outputs": [],
   "source": [
    "t[:4]"
   ]
  },
  {
   "cell_type": "code",
   "execution_count": null,
   "metadata": {},
   "outputs": [],
   "source": [
    "t[:]"
   ]
  },
  {
   "cell_type": "code",
   "execution_count": null,
   "metadata": {},
   "outputs": [],
   "source": [
    "t[::-1]"
   ]
  },
  {
   "cell_type": "markdown",
   "metadata": {},
   "source": [
    "### Listen sortieren\n",
    "Mit der Methode sort lassen sich Listen sortieren, sofern die Elemente vergleichbar sind:"
   ]
  },
  {
   "cell_type": "code",
   "execution_count": null,
   "metadata": {},
   "outputs": [],
   "source": [
    "a = ['d', 'c', 'f', 'e', 'a', 'b']\n",
    "a.sort()\n",
    "print(a)"
   ]
  },
  {
   "cell_type": "code",
   "execution_count": null,
   "metadata": {},
   "outputs": [],
   "source": [
    "a = ['d', 'c', 'f', 'e', 'a', 'b']\n",
    "b = a.sort()\n",
    "print(b)"
   ]
  },
  {
   "cell_type": "markdown",
   "metadata": {},
   "source": [
    "sort() ist eine Methode von Listen, die keinen Rückgabewert hat, sondern nur eine Liste sortiert. Daher liefert die Zuweisung des Rückgabewerts an die Variable a dieses Ergebnis"
   ]
  },
  {
   "cell_type": "markdown",
   "metadata": {},
   "source": [
    "Listen können allerdings nur dann sortiert werden, wenn die Elemente untereinander vergleichbar sind."
   ]
  },
  {
   "cell_type": "code",
   "execution_count": null,
   "metadata": {},
   "outputs": [],
   "source": [
    "b = [2, 'a', 4, 5.6]\n",
    "print(b.sort())"
   ]
  },
  {
   "cell_type": "markdown",
   "metadata": {},
   "source": [
    "**-> Aufgabenblatt zweiter Teil**"
   ]
  },
  {
   "cell_type": "markdown",
   "metadata": {},
   "source": [
    "## Mengen\n",
    "Ähnlich wie in Listen können Elemente auch in **Mengen** zusammengefasst sein. Dazu gibt es die Datenstruktur set. Mengen unterscheiden sich jedoch hinsichtlich zweier Eigenschaften ganz wesentlich von Listen:\n",
    "* Mengen sind nicht geordnet, das heisst, auf die Elemente kann nicht mittels Index zugegriffen werden\n",
    "* Mengen enthalten Elemente nicht mehrfach. \n",
    "\n",
    "Es gilt also: {1, 2, 2}={2, 1}\n",
    "\n",
    "Der Datentyp *set* ist in Python veränderlich. Das heisst, dass Elemente entfernt oder neue Elemente hinzugefügt werden können. Zudem können Sie Listen ganz einfach in Sets umwandeln"
   ]
  },
  {
   "cell_type": "code",
   "execution_count": null,
   "metadata": {},
   "outputs": [],
   "source": [
    "s1 = set([None, 1, '2', 3])\n",
    "s2 = {None, 1, 3, '2'}\n",
    "print(s1)\n",
    "print(s2)\n",
    "print(s1==s2)"
   ]
  },
  {
   "cell_type": "code",
   "execution_count": null,
   "metadata": {},
   "outputs": [],
   "source": [
    "s1.add('4')\n",
    "print(s1)\n",
    "s1.add('4')\n",
    "print(s1)"
   ]
  },
  {
   "cell_type": "code",
   "execution_count": null,
   "metadata": {},
   "outputs": [],
   "source": [
    "s1.remove(1)\n",
    "print(s1)\n",
    "s1.clear()\n",
    "print(s1)"
   ]
  },
  {
   "cell_type": "markdown",
   "metadata": {},
   "source": [
    "Falls Sie eine unveränderliche Menge bilden wollen, geht das mit hilfe von *frozenset*"
   ]
  },
  {
   "cell_type": "code",
   "execution_count": null,
   "metadata": {},
   "outputs": [],
   "source": [
    "s = frozenset([1, 2, 3])\n",
    "print(s)\n",
    "s.add(4)"
   ]
  },
  {
   "cell_type": "markdown",
   "metadata": {},
   "source": [
    "Leere Mengen können Sie nicht mit leeren geschweiften Klammern erzeugen, da dies für sogenannte Dictionaries reserviert ist. Stattdessen brauchen Sie set()"
   ]
  },
  {
   "cell_type": "code",
   "execution_count": null,
   "metadata": {},
   "outputs": [],
   "source": [
    "leereMenge=set()\n",
    "print(leereMenge)"
   ]
  },
  {
   "cell_type": "code",
   "execution_count": null,
   "metadata": {},
   "outputs": [],
   "source": [
    "leereMenge2={}\n",
    "type(leereMenge2)"
   ]
  },
  {
   "cell_type": "markdown",
   "metadata": {},
   "source": [
    "Die aus der Mathematik bekannten Mengenoperationen (Schnitt, Differenz, Vereinigung) und Mengenrelationen (Teilmenge, Obermenge) können auch in Python genutzt werden"
   ]
  },
  {
   "cell_type": "code",
   "execution_count": null,
   "metadata": {},
   "outputs": [],
   "source": [
    "s1 = {1, 2, 3, 4}\n",
    "s2 = {1, 2, 3}\n",
    "s1.issuperset(s2) # Ist s1 eine Obermenge von s2?"
   ]
  },
  {
   "cell_type": "code",
   "execution_count": null,
   "metadata": {},
   "outputs": [],
   "source": [
    "s2.issubset(s1) # Ist s2 eine Teilmenge von s1?"
   ]
  },
  {
   "cell_type": "code",
   "execution_count": null,
   "metadata": {},
   "outputs": [],
   "source": [
    "s1 = {1, 2, 3, 4}\n",
    "s3 = {3, 4, 5}\n",
    "s4 = s1.union(s3)\n",
    "print(s4)"
   ]
  },
  {
   "cell_type": "code",
   "execution_count": null,
   "metadata": {},
   "outputs": [],
   "source": [
    "s5 = s1.difference(s3)\n",
    "print(s5)"
   ]
  },
  {
   "cell_type": "code",
   "execution_count": null,
   "metadata": {},
   "outputs": [],
   "source": [
    "s6 = {1, 2, 3, 6, 7}\n",
    "s7 = s1.intersection(s6)\n",
    "print(s7)"
   ]
  },
  {
   "cell_type": "markdown",
   "metadata": {},
   "source": [
    "Für weitere Operationen konsultieren Sie bitte die Dokumentation des Datantyps *set*."
   ]
  },
  {
   "cell_type": "markdown",
   "metadata": {},
   "source": [
    "## Objekte und Werte"
   ]
  },
  {
   "cell_type": "markdown",
   "metadata": {},
   "source": [
    "Angenommen, wir führen die folgende Zuweisung aus:"
   ]
  },
  {
   "cell_type": "code",
   "execution_count": null,
   "metadata": {},
   "outputs": [],
   "source": [
    "a = 'banane'\n",
    "b = 'banane'"
   ]
  },
  {
   "cell_type": "markdown",
   "metadata": {},
   "source": [
    "Dann wissen wir, dass sich a und b auf einen String beziehen. Aber wir wissen nicht, ob sie sich\n",
    "auf denselben String beziehen. Es kann sein, dass wir zwei Strings im Speicher abgelegt haben,\n",
    "welche denselben Inhalt haben, oder aber einen String, auf den sich nun zwei Variablen beziehen."
   ]
  },
  {
   "cell_type": "markdown",
   "metadata": {},
   "source": [
    "* Falls zwei Strings abgelegt wurden, haben wir zwei Objekte, das Objekt ‘banane’ mit Namen a das zweite Objekt ‘banane’ mit Namen b.\n",
    "* Falls nur ein String abgelegt wurde, haben wir ein Objekt ‘banane’ mit zwei Namen: a und b."
   ]
  },
  {
   "cell_type": "markdown",
   "metadata": {},
   "source": [
    "Falls sich zwei Namen auf das selbe Objekt beziehen, so gibt Objekt1 is Objekt2 True zurück."
   ]
  },
  {
   "cell_type": "code",
   "execution_count": null,
   "metadata": {},
   "outputs": [],
   "source": [
    "a is b"
   ]
  },
  {
   "cell_type": "markdown",
   "metadata": {},
   "source": [
    "Python hat also ein String-Objekt angelegt, und sowohl a als auch b beziehen sich darauf. Da\n",
    "Strings unveränderbar sind, ergibt das durchaus Sinn. \n",
    "\n",
    "Betrachten wir nun folgendes Beispiel:"
   ]
  },
  {
   "cell_type": "code",
   "execution_count": null,
   "metadata": {},
   "outputs": [],
   "source": [
    "a = [1, 2, 2]\n",
    "b = [1, 2, 2]\n",
    "a is b"
   ]
  },
  {
   "cell_type": "markdown",
   "metadata": {},
   "source": [
    "Nun hat Python offenbar zwei Listen-Objekte angelegt. Das ist sinnvoll, den es kann ja sein, dass eine Änderung nur die eine Liste betreffen soll. Da Listen veränderbar sind, ist das so durchaus sinnvoll.\n",
    "Die beiden Listen sind zwar nicht identisch aber dennoch insofern gleich, da sie die gleichen Elemente\n",
    "enthalten:"
   ]
  },
  {
   "cell_type": "code",
   "execution_count": null,
   "metadata": {},
   "outputs": [],
   "source": [
    "a == b"
   ]
  },
  {
   "cell_type": "markdown",
   "metadata": {},
   "source": [
    "Objekte und Werte sind also zwei unterschiedliche Dinge. Objekte haben Werte. Die beiden Objekte a und b haben in diesem Beispiel dieselben Werte."
   ]
  },
  {
   "cell_type": "markdown",
   "metadata": {},
   "source": [
    "## Aliasing"
   ]
  },
  {
   "cell_type": "markdown",
   "metadata": {},
   "source": [
    "Wenn a auf ein Objekt verweist (also quasi der Name eines Objekts ist) und wir b=a zuweisen, verweisen beide Variablen auf dasselbe Objekt."
   ]
  },
  {
   "cell_type": "code",
   "execution_count": null,
   "metadata": {},
   "outputs": [],
   "source": [
    "a = [1, 2, 3]\n",
    "b = a\n",
    "print(a is b)"
   ]
  },
  {
   "cell_type": "markdown",
   "metadata": {},
   "source": [
    "Wenn einer Variable ein Objekt zugewiesen wird, dann sagt man, dass die Variable eine Referenz auf das Objekt ist oder auch, das die Variable das Objekt referenziert. In diesem Beispiel gibt es zwei Referenzen auf dasselbe Objekt. Ein Objekt für das mehr als eine Referenz existiert, hat mehr als einen Namen, quasi einen Alias. Deswegen spricht man in diesem Fall von Aliasing."
   ]
  },
  {
   "cell_type": "markdown",
   "metadata": {},
   "source": [
    "Falls das Objekt veränderbar ist, für das ein Alias existiert, wirken sich die Änderungen, die an einem Alias vorgenommen werden, auch auf den anderen aus."
   ]
  },
  {
   "cell_type": "code",
   "execution_count": null,
   "metadata": {},
   "outputs": [],
   "source": [
    "a = [1, 2, 3]\n",
    "b = a\n",
    "b[0] = 17\n",
    "print(a)"
   ]
  },
  {
   "cell_type": "markdown",
   "metadata": {},
   "source": [
    "Aliasing bietet viele Fehlerquellen und sollte daher vermieden werden (häufig entsteht es aber ohne Absicht!)"
   ]
  },
  {
   "cell_type": "markdown",
   "metadata": {},
   "source": [
    "## Listen als Argumente"
   ]
  },
  {
   "cell_type": "markdown",
   "metadata": {},
   "source": [
    "Wenn Sie eine Liste an eine Funktion übergeben, erhält die Funktion eine Referenz auf die Liste.\n",
    "Verändert die Funktion eine als Parameter übergebene Liste, sind die Änderungen auch für den\n",
    "Aufrufenden sichtbar. Die folgende Funktion löscht den ersten Wert einer Liste:"
   ]
  },
  {
   "cell_type": "code",
   "execution_count": null,
   "metadata": {},
   "outputs": [],
   "source": [
    "def loesche_ersten(liste):\n",
    "    del liste[0]"
   ]
  },
  {
   "cell_type": "code",
   "execution_count": null,
   "metadata": {},
   "outputs": [],
   "source": [
    "buchstaben = ['a','b','c']\n",
    "loesche_ersten(buchstaben)\n",
    "print(buchstaben)"
   ]
  },
  {
   "cell_type": "markdown",
   "metadata": {},
   "source": [
    "Der Parameter liste in der Funktion und die Variable buchstaben im Hauptprogramm sind also Aliase für dasselbe Objekt."
   ]
  },
  {
   "cell_type": "markdown",
   "metadata": {},
   "source": [
    "Es ist wichtig, zwischen Operationen zu unterscheiden, die Listen verändern, und solchen, die neue Listen erstellen. Die Methode append verändert eine Liste, der Operator + erstellt dagegen\n",
    "eine neue Liste:"
   ]
  },
  {
   "cell_type": "code",
   "execution_count": null,
   "metadata": {},
   "outputs": [],
   "source": [
    "t1 = [1, 2]\n",
    "t2 = t1.append(3)\n",
    "print(t1)"
   ]
  },
  {
   "cell_type": "code",
   "execution_count": null,
   "metadata": {},
   "outputs": [],
   "source": [
    "print(t2)"
   ]
  },
  {
   "cell_type": "code",
   "execution_count": null,
   "metadata": {},
   "outputs": [],
   "source": [
    "t3 = t1 + [4]\n",
    "print(t3)"
   ]
  },
  {
   "cell_type": "markdown",
   "metadata": {},
   "source": [
    "Diese Unterscheidung ist dann besonders wichtig, wenn Sie Funktionen schreiben. die Listen verändern sollen. Warum ist folgende Funktion nicht sinnvoll?"
   ]
  },
  {
   "cell_type": "code",
   "execution_count": null,
   "metadata": {},
   "outputs": [],
   "source": [
    "def falsche_loesche_erste(t):\n",
    "    t = t[1:]"
   ]
  },
  {
   "cell_type": "markdown",
   "metadata": {},
   "source": [
    "Der Slice-Operator erstellt eine neue Liste und weist diese innerhalb der Funktion der Variable t zu. Die Liste wird aber dadurch nicht verändert. Auch ein Return-Statement würde daran vom Grundsatz her übrigens nichts ändern. Warum nicht?"
   ]
  },
  {
   "cell_type": "markdown",
   "metadata": {},
   "source": [
    "Dennoch erreichen Sie zur Not die gewünschte Wirkung beispielsweise wie folgt:"
   ]
  },
  {
   "cell_type": "code",
   "execution_count": null,
   "metadata": {},
   "outputs": [],
   "source": [
    "def rest(t):\n",
    "    return t[1:]\n",
    "buchstaben = ['a','b','c']\n",
    "buchstaben = rest(buchstaben)\n",
    "print(buchstaben)"
   ]
  },
  {
   "cell_type": "markdown",
   "metadata": {},
   "source": [
    "Allerdings ist diese Lösung suboptimal, da die Funktion selbst nicht wie versprochen die Liste\n",
    "ändert."
   ]
  },
  {
   "cell_type": "markdown",
   "metadata": {},
   "source": [
    "**-> Aufgabenblatt dritter Teil**"
   ]
  },
  {
   "cell_type": "markdown",
   "metadata": {},
   "source": [
    "## Listen-Abstraktionen"
   ]
  },
  {
   "cell_type": "markdown",
   "metadata": {},
   "source": [
    "Listen-Abstraktionen (englisch: list comprehensions) sind eine sehr einfache Methode, um mit wenig Code (hier in einer Zeile) neue Listen zu erzeugen. Alle Listen, die Sie mit Listen-Abstraktionen erzeugen, können auch anders erstellt werden. Die Alternativen sind jedoch häufig umständlich und brauchen gelegentlich auch zusätzliche Variablen oder Datenstrukturen."
   ]
  },
  {
   "cell_type": "markdown",
   "metadata": {},
   "source": [
    "**Beispiel**: Eine Liste aus den ersten 10 Quadratzahlen beginnend bei 0:\n",
    "        \n",
    "Variante ohne Listen-Abstraktion:"
   ]
  },
  {
   "cell_type": "code",
   "execution_count": 1,
   "metadata": {},
   "outputs": [
    {
     "data": {
      "text/plain": [
       "[0, 1, 4, 9, 16, 25, 36, 49, 64, 81]"
      ]
     },
     "execution_count": 1,
     "metadata": {},
     "output_type": "execute_result"
    }
   ],
   "source": [
    "quadrate = []\n",
    "for x in range(10):\n",
    "    quadrate.append(x**2)\n",
    "quadrate"
   ]
  },
  {
   "cell_type": "markdown",
   "metadata": {},
   "source": [
    "Gleiche Liste mit Listen-Abstraktion:"
   ]
  },
  {
   "cell_type": "code",
   "execution_count": 2,
   "metadata": {},
   "outputs": [
    {
     "data": {
      "text/plain": [
       "[0, 1, 4, 9, 16, 25, 36, 49, 64, 81]"
      ]
     },
     "execution_count": 2,
     "metadata": {},
     "output_type": "execute_result"
    }
   ],
   "source": [
    "quadrate = [x**2 for x in range(10)]\n",
    "quadrate"
   ]
  },
  {
   "cell_type": "markdown",
   "metadata": {},
   "source": [
    "Sie können auch Bedingungen an die Listenobjekte stellen. Beispielsweise, wenn Sie nur diejenigen Quadratzahlen in die Liste aufnehmen wollen, die aus ungeraden Zahlen entstehen:"
   ]
  },
  {
   "cell_type": "code",
   "execution_count": 3,
   "metadata": {},
   "outputs": [
    {
     "data": {
      "text/plain": [
       "[1, 9, 25, 49, 81]"
      ]
     },
     "execution_count": 3,
     "metadata": {},
     "output_type": "execute_result"
    }
   ],
   "source": [
    "ungerade_quadrate = [x**2 for x in range(10) if x%2 == 1]\n",
    "ungerade_quadrate"
   ]
  },
  {
   "cell_type": "markdown",
   "metadata": {},
   "source": [
    "Selbstverständlich können Sie auch innerhalb der Listen-Abstraktion Variablen aufrufen:"
   ]
  },
  {
   "cell_type": "code",
   "execution_count": 6,
   "metadata": {},
   "outputs": [
    {
     "name": "stdout",
     "output_type": "stream",
     "text": [
      "[[3, 5], [5, 7], [11, 13], [17, 19]]\n",
      "5\n"
     ]
    }
   ],
   "source": [
    "zahlen = [2, 3, 5, 7, 11, 13, 17, 19]\n",
    "primzahlzwillinge_small = [[x,x+2] for x in zahlen if x+2 in zahlen]\n",
    "print(primzahlzwillinge_small)\n",
    "print(primzahlzwillinge_small[1][0])"
   ]
  },
  {
   "cell_type": "markdown",
   "metadata": {},
   "source": [
    "## Listen und Strings"
   ]
  },
  {
   "cell_type": "markdown",
   "metadata": {},
   "source": [
    "Ein String ist eine Sequenz von Zeichen und eine Liste ist eine Sequenz von Werten. Aber eine Liste von Zeichen ist nicht dasselbe wie ein String. Wenn Sie einen String in eine Liste von Zeichen umwandeln wollen, können Sie das mit list tun:"
   ]
  },
  {
   "cell_type": "code",
   "execution_count": 8,
   "metadata": {},
   "outputs": [
    {
     "name": "stdout",
     "output_type": "stream",
     "text": [
      "['h', 'a', 'l', 'l', 'o', ' ', 'w', 'e', 'l', 't']\n"
     ]
    }
   ],
   "source": [
    "wort = 'hallo welt'\n",
    "zeichenliste = list(wort)\n",
    "print(zeichenliste)"
   ]
  },
  {
   "cell_type": "markdown",
   "metadata": {},
   "source": [
    "Weil list der Name einer eingebauten Funktion ist, sollten Sie ihn nie als Variablennamen verwenden!"
   ]
  },
  {
   "cell_type": "markdown",
   "metadata": {},
   "source": [
    "Die Funktion list zerlegt einen String in einzelne Zeichen. Wenn Sie aber einen String in einzelne Worte zerlegen wollen, verwenden Sie die Split-Methode:"
   ]
  },
  {
   "cell_type": "code",
   "execution_count": 14,
   "metadata": {},
   "outputs": [
    {
     "name": "stdout",
     "output_type": "stream",
     "text": [
      "['Weit', 'draußen', 'in', 'den', 'unerforschten', 'Einöden', 'eines', 'total', 'aus', 'der', 'Mode', 'gekommenen', 'Ausläufers', 'des', 'westlichen', 'Spiralarms', 'der', 'Galaxis', 'leuchtet', 'unbeachtet', 'eine', 'kleine', 'gelbe', 'Sonne.']\n"
     ]
    }
   ],
   "source": [
    "s = \"Weit draußen in den unerforschten Einöden eines total aus der Mode gekommenen Ausläufers des westlichen Spiralarms der Galaxis leuchtet unbeachtet eine kleine gelbe Sonne.\"\n",
    "t = s.split()\n",
    "print(t)"
   ]
  },
  {
   "cell_type": "markdown",
   "metadata": {},
   "source": [
    "Will man hingegen eine Liste in einen String umwandeln, braucht man stattdessen die Funktion join:"
   ]
  },
  {
   "cell_type": "code",
   "execution_count": 15,
   "metadata": {},
   "outputs": [
    {
     "data": {
      "text/plain": [
       "'Weit draußen in den unerforschten Einöden eines total aus der Mode gekommenen Ausläufers des westlichen Spiralarms der Galaxis leuchtet unbeachtet eine kleine gelbe Sonne.'"
      ]
     },
     "execution_count": 15,
     "metadata": {},
     "output_type": "execute_result"
    }
   ],
   "source": [
    "trennzeichen = ' '\n",
    "trennzeichen.join(t)"
   ]
  },
  {
   "cell_type": "markdown",
   "metadata": {},
   "source": [
    "**-> Aufgabenblatt 4. Teil**"
   ]
  }
 ],
 "metadata": {
  "kernelspec": {
   "display_name": "Python 3",
   "language": "python",
   "name": "python3"
  },
  "language_info": {
   "codemirror_mode": {
    "name": "ipython",
    "version": 3
   },
   "file_extension": ".py",
   "mimetype": "text/x-python",
   "name": "python",
   "nbconvert_exporter": "python",
   "pygments_lexer": "ipython3",
   "version": "3.7.4"
  }
 },
 "nbformat": 4,
 "nbformat_minor": 4
}
