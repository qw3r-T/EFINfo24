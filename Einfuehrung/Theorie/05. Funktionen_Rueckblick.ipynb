{
 "cells": [
  {
   "cell_type": "markdown",
   "metadata": {},
   "source": [
    "# Funktionen - erste rückblickende Schritte"
   ]
  },
  {
   "cell_type": "markdown",
   "metadata": {},
   "source": [
    "## Wozu?"
   ]
  },
  {
   "cell_type": "markdown",
   "metadata": {},
   "source": [
    "Funktionen ermöglichen es, mehrere Schritte in einem Code zusammenzufassen und einfach verfügbar zu machen. Beispielsweise könnte innerhalb eines Programms mehrfach ein Passwort abgefragt werden müssen. Das könnte man in eine Funktion auslagern:"
   ]
  },
  {
   "cell_type": "code",
   "execution_count": 1,
   "metadata": {},
   "outputs": [],
   "source": [
    "def passwort_abfragen(passwort):\n",
    "    eingabe = input(\"Passwort: \")\n",
    "    versuche = 3\n",
    "    while eingabe != passwort:\n",
    "        versuche -= 1\n",
    "        if versuche>0:            \n",
    "            eingabe = input(\"Passwort falsch, noch {} Versuche.\\nPasswort:\".format(versuche))\n",
    "        else:\n",
    "            return False\n",
    "    return True"
   ]
  },
  {
   "cell_type": "markdown",
   "metadata": {},
   "source": [
    "Zeile 1 nennt man Header. Dieser wird durch das Schlüsselwort *def* eingeleitet, gefolgt vom Funktionsnamen und einer Klammer mit den Parametern der Funktion. Der Header wird mit einem Doppelpunkt abgeschlossen.\n",
    "\n",
    "Zeile 2 liest von der Anwenderin / dem Anwender die Eingabe über die Konsole ein. \n",
    "\n",
    "Zeile 3 initiiert die Variable versuche auf den Wert 3\n",
    "\n",
    "Zeilen 4 bis 9 handeln falsche Passworteingaben. Solange das Passwort nicht korrekt ist und es noch Versuche gibt, werden diese abgearbeitet. Sobald alle Versuche verbraucht sind und das Passwort nicht korrekt eingegeben wurde, erfolgt eine Rückmeldung mit dem booleschen Wert False der Funktion an die aufrufende Stelle. \n",
    "\n",
    "Zeile 10 regelt den Fall, falls das Passwort \"rechtzeitig\" korrekt eingegeben wurde."
   ]
  },
  {
   "cell_type": "code",
   "execution_count": 3,
   "metadata": {},
   "outputs": [
    {
     "name": "stdout",
     "output_type": "stream",
     "text": [
      "Passwort:  hu\n",
      "Passwort falsch, noch 2 Versuche.\n",
      "Passwort: jhj\n",
      "Passwort falsch, noch 1 Versuche.\n",
      "Passwort: ghfg\n"
     ]
    },
    {
     "name": "stdout",
     "output_type": "stream",
     "text": [
      "Access denied\n"
     ]
    }
   ],
   "source": [
    "pw = \"admin\"\n",
    "if passwort_abfragen(pw):\n",
    "    print(\"Access granted\")\n",
    "else:\n",
    "    print(\"Access denied\")"
   ]
  },
  {
   "cell_type": "markdown",
   "metadata": {},
   "source": [
    "Die Funktion *passwort_abfragen* kann nun überall dort eingesetzt werden, wo ein Passwort abzufragen ist. Wobei die Passworte an verschiedenen Stellen auch unterschiedlich sein können. Dies wird dadurch ermöglicht, dass das Passwort als Argument an die Funktion übergeben wird. Deswegen hat es in der Klammer den Parameter *passwort*, der bei einem Aufruf der Funktion mit dem übergebenen Argument belegt wird."
   ]
  },
  {
   "cell_type": "markdown",
   "metadata": {},
   "source": [
    "Wie bei Loops auch, müssen die Zeilen, welche zu einer Funktion gehören, jeweils entsprechend eingerückt werden.\n",
    "\n",
    "Funktionen können eigentlich an einer beliebigen Stelle im Code platziert werden. Die einzige Bedingung ist, dass sie definiert werden bevor sie das erste Mal aufgerufen werden.\n",
    "\n",
    "Der folgende Code ist zwar weder nützlich noch besonders schön, er zeigt aber, was prinzipiell möglich ist."
   ]
  },
  {
   "cell_type": "code",
   "execution_count": 4,
   "metadata": {},
   "outputs": [
    {
     "name": "stdout",
     "output_type": "stream",
     "text": [
      "Ich bin Funktion1 und erstelle andere Funktionen\n",
      "Ich bin Funktion2 und wurde in Funktion1 erstellt\n"
     ]
    }
   ],
   "source": [
    "def funktion1():\n",
    "    def funktion2():\n",
    "        print(\"Ich bin Funktion2 und wurde in Funktion1 erstellt\")\n",
    "    print(\"Ich bin Funktion1 und erstelle andere Funktionen\")\n",
    "    funktion2()\n",
    "\n",
    "funktion1()"
   ]
  },
  {
   "cell_type": "markdown",
   "metadata": {},
   "source": [
    "Allerdings ist *funktion2* nun nur innerhalb der *funktion1* existent"
   ]
  },
  {
   "cell_type": "code",
   "execution_count": 5,
   "metadata": {},
   "outputs": [
    {
     "ename": "NameError",
     "evalue": "name 'funktion2' is not defined",
     "output_type": "error",
     "traceback": [
      "\u001b[1;31m---------------------------------------------------------------------------\u001b[0m",
      "\u001b[1;31mNameError\u001b[0m                                 Traceback (most recent call last)",
      "\u001b[1;32m<ipython-input-5-affb812eb2ec>\u001b[0m in \u001b[0;36m<module>\u001b[1;34m\u001b[0m\n\u001b[1;32m----> 1\u001b[1;33m \u001b[0mfunktion2\u001b[0m\u001b[1;33m(\u001b[0m\u001b[1;33m)\u001b[0m\u001b[1;33m\u001b[0m\u001b[1;33m\u001b[0m\u001b[0m\n\u001b[0m",
      "\u001b[1;31mNameError\u001b[0m: name 'funktion2' is not defined"
     ]
    }
   ],
   "source": [
    "funktion2()"
   ]
  },
  {
   "cell_type": "markdown",
   "metadata": {},
   "source": [
    "## Benennung von Funktionen"
   ]
  },
  {
   "cell_type": "markdown",
   "metadata": {},
   "source": [
    "Achten Sie darauf, dass die Funktionsnamen stets aussagekräftig sind.\n",
    "\n",
    "Es gelten die üblichen Regeln: \n",
    "- Nur Buchstaben, Zahlen, _ , -\n",
    "- Der Funktionsname muss mit einem Buchstaben beginnen. Traditionell beginnt man mit einem **Kleinbuchstaben**\n",
    "- Für Funktionen, die als Rückgabewert einen Boolean haben, sollte der Name dies auch deutlich machen, z.B. ist_prim, ist_sortiert etc."
   ]
  },
  {
   "cell_type": "markdown",
   "metadata": {},
   "source": [
    "Zu jedem Funktionsnamen merkt sich der Interpreter höchstens eine Variante, nämlich die zuletzt gelesene. Das Überschreiben von Funktionen, wie Sie das vielleicht aus anderen Programmiersprachen kennen, gibt es in Python nicht, bzw. werden die Funktionen dann tatsächlich überschrieben."
   ]
  },
  {
   "cell_type": "code",
   "execution_count": 6,
   "metadata": {},
   "outputs": [
    {
     "ename": "TypeError",
     "evalue": "a() takes 1 positional argument but 2 were given",
     "output_type": "error",
     "traceback": [
      "\u001b[1;31m---------------------------------------------------------------------------\u001b[0m",
      "\u001b[1;31mTypeError\u001b[0m                                 Traceback (most recent call last)",
      "\u001b[1;32m<ipython-input-6-13af1d08ee50>\u001b[0m in \u001b[0;36m<module>\u001b[1;34m\u001b[0m\n\u001b[0;32m      5\u001b[0m \u001b[1;32mdef\u001b[0m \u001b[0ma\u001b[0m\u001b[1;33m(\u001b[0m\u001b[0mzahl\u001b[0m\u001b[1;33m)\u001b[0m\u001b[1;33m:\u001b[0m\u001b[1;33m\u001b[0m\u001b[1;33m\u001b[0m\u001b[0m\n\u001b[0;32m      6\u001b[0m     \u001b[1;32mreturn\u001b[0m \u001b[0mzahl\u001b[0m\u001b[1;33m**\u001b[0m\u001b[1;36m2\u001b[0m\u001b[1;33m\u001b[0m\u001b[1;33m\u001b[0m\u001b[0m\n\u001b[1;32m----> 7\u001b[1;33m \u001b[0mprint\u001b[0m\u001b[1;33m(\u001b[0m\u001b[0ma\u001b[0m\u001b[1;33m(\u001b[0m\u001b[1;36m2\u001b[0m\u001b[1;33m,\u001b[0m \u001b[1;36m3\u001b[0m\u001b[1;33m)\u001b[0m\u001b[1;33m)\u001b[0m\u001b[1;33m\u001b[0m\u001b[1;33m\u001b[0m\u001b[0m\n\u001b[0m",
      "\u001b[1;31mTypeError\u001b[0m: a() takes 1 positional argument but 2 were given"
     ]
    }
   ],
   "source": [
    "def a(zahl1, zahl2):\n",
    "    return zahl1 + zahl2\n",
    "def a(zahl1, zahl2):\n",
    "    return zahl1 * zahl2\n",
    "def a(zahl):\n",
    "    return zahl**2\n",
    "print(a(2, 3))"
   ]
  },
  {
   "cell_type": "markdown",
   "metadata": {},
   "source": [
    "Wegen dem oben beschriebenen Verhalten sollten Sie auch vermeiden, die Funktionen von Modulen mittels * zu importieren."
   ]
  },
  {
   "cell_type": "code",
   "execution_count": null,
   "metadata": {},
   "outputs": [],
   "source": [
    "from random import *\n",
    "from math import *"
   ]
  },
  {
   "cell_type": "markdown",
   "metadata": {},
   "source": [
    "Diese beiden Zeilen importieren sämtliche Funktionen der Module Random und Numpy, so dass sie diese direkt wie selbst geschriebenen Code in ihrem Code nutzen können. Das ist zwar sehr bequem und sehr verführerisch. Statt "
   ]
  },
  {
   "cell_type": "code",
   "execution_count": null,
   "metadata": {},
   "outputs": [],
   "source": [
    "zufallszahl = random.randint(1, 10)"
   ]
  },
  {
   "cell_type": "markdown",
   "metadata": {},
   "source": [
    "schreiben zu müssen, geht es viel einfacher:"
   ]
  },
  {
   "cell_type": "code",
   "execution_count": null,
   "metadata": {},
   "outputs": [],
   "source": [
    "zufallszahl = randint(1, 10)"
   ]
  },
  {
   "cell_type": "markdown",
   "metadata": {},
   "source": [
    "Nur leider können Sie nun nicht mehr sicher sein, ob *randint* tatsächlich die Funktion des Moduls random ist. Was, wenn auch das Modul math eine solche Funktion besitzt?"
   ]
  },
  {
   "cell_type": "markdown",
   "metadata": {},
   "source": [
    "Zudem riskieren Sie, ohne es zu merken, innerhalb Ihres Codes Funktionen aus den importierten Modulen zu überschreiben, die Sie später noch gebraucht hätten.\n",
    "\n",
    "Deswegen sollten Sie beim importieren jeweils einer der beiden folgenden Wege wählen:\n",
    "- Nur das Modul importieren und dann über modulname.funktion auf die Funktion zugreifen\n",
    "- Nur jene Funktionen auflistend direkt importieren, die Sie sicher brauchen werden: "
   ]
  },
  {
   "cell_type": "code",
   "execution_count": null,
   "metadata": {},
   "outputs": [],
   "source": [
    "from random import randint, random"
   ]
  },
  {
   "cell_type": "markdown",
   "metadata": {},
   "source": [
    "## Rückgabewerte\n",
    "\n",
    "Funktionen enden häufig mit einer sogenannten return-Anweisung. Diese Zeile ist nicht Pflicht, kann aber stets an das Ende einer Funktion geschrieben werden.\n",
    "\n",
    "Soll die Funktion etwas berechnen, das danach weiter zur Verfügung steht, so übergibt man das entsprechende Ergebnis via return-Anweisung"
   ]
  },
  {
   "cell_type": "code",
   "execution_count": 8,
   "metadata": {},
   "outputs": [
    {
     "name": "stdout",
     "output_type": "stream",
     "text": [
      "None\n"
     ]
    }
   ],
   "source": [
    "def rechne(a, b, op):\n",
    "    if op == \"add\":\n",
    "        return a+b\n",
    "    if op == \"dif\":\n",
    "        return a-b\n",
    "    if op == \"mul\":\n",
    "        return a*b\n",
    "resultat = rechne(2, 3, \"add\")\n",
    "print(resultat)"
   ]
  },
  {
   "cell_type": "markdown",
   "metadata": {},
   "source": [
    "Mit Erreichen einer return-Anweisung verlässt der sogenannte Interpreter die Funktion und geht an die Stelle zurück, an der der Funktionsaufruf war.\n",
    "\n",
    "Eine return-Anweisung kann auch mitten in der Funktion stehen, wie obiges Beispiel zeigt. "
   ]
  }
 ],
 "metadata": {
  "kernelspec": {
   "display_name": "Python 3",
   "language": "python",
   "name": "python3"
  },
  "language_info": {
   "codemirror_mode": {
    "name": "ipython",
    "version": 3
   },
   "file_extension": ".py",
   "mimetype": "text/x-python",
   "name": "python",
   "nbconvert_exporter": "python",
   "pygments_lexer": "ipython3",
   "version": "3.7.4"
  }
 },
 "nbformat": 4,
 "nbformat_minor": 4
}
