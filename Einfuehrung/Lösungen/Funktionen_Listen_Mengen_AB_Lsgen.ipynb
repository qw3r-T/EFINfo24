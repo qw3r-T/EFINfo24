{
 "cells": [
  {
   "cell_type": "markdown",
   "metadata": {},
   "source": [
    "# Aufgabenblatt zu Funktionen, Listen und Mengen - Lösungen"
   ]
  },
  {
   "cell_type": "markdown",
   "metadata": {},
   "source": [
    "Erstellen Sie die Funktionen diese Aufgabenblattes alle in einem neuen Modul aufgaben_listen.py.\n",
    "* E: Einstieg, Kennenlernen des Stoffes. Muss gelöst werden (können)\n",
    "* Ü: Zusätzliches Übungsmaterial. Dient rein zur Übung und Repetition.\n",
    "* V: Vertiefung und weitergehende Inhalte. Falls es als Aufgabe aufgegeben wird, muss es ebenfalls gelöst werden.\n",
    "* H: Herausfordernde und weiterführende Aufgaben. Diese Aufgaben können Pflicht sein, sind es aber in der Regel nicht."
   ]
  },
  {
   "cell_type": "markdown",
   "metadata": {},
   "source": [
    "## Erster Teil (Funktionen)"
   ]
  },
  {
   "cell_type": "markdown",
   "metadata": {},
   "source": [
    "### Aufgabe 1 (E)\n",
    "a)\tSchreiben Sie eine Funktion *ist_gerade*, die einen Parameter *zahl* hat und die in der Shell ausgibt, ob die übergebene Zahl gerade ist oder nicht."
   ]
  },
  {
   "cell_type": "code",
   "execution_count": null,
   "metadata": {},
   "outputs": [],
   "source": [
    "def ist_gerade(zahl):\n",
    "    if zahl % 2 == 0:\n",
    "        print(\"Die Zahl {} ist gerade\".format(zahl))\n",
    "    else:\n",
    "        print(\"Die Zahl {} ist ungerade\".format(zahl))"
   ]
  },
  {
   "cell_type": "markdown",
   "metadata": {},
   "source": [
    "b)\tVerändern Sie obige Funktion so, dass keine Ausgabe in der Shell erfolgt, sondern so dass sie stattdessen ein Boolean (*True* oder *False*) zurückgibt, je nachdem ob die Zahl gerade ist oder nicht."
   ]
  },
  {
   "cell_type": "code",
   "execution_count": null,
   "metadata": {},
   "outputs": [],
   "source": [
    "def ist_gerade(zahl):\n",
    "    return zahl % 2 == 0"
   ]
  },
  {
   "cell_type": "markdown",
   "metadata": {},
   "source": [
    "### Aufgabe 2 (E)\n",
    "Importieren Sie aus dem Modul *random* die Funktion *randint* und vom Modul *time* die Funktion *sleep*. Informieren Sie Sich mittels *help* über die Funktionsweise dieser beiden Funktionen. Erstellen Sie eine Funktion *warte_zufaellig*, die eine zufällige Anzahl Sekunden lang wartet und dann «jetzt bin ich fertig» in der Shell ausgibt."
   ]
  },
  {
   "cell_type": "code",
   "execution_count": 2,
   "metadata": {},
   "outputs": [
    {
     "name": "stdout",
     "output_type": "stream",
     "text": [
      "Jetzt bin ich fertig.\n"
     ]
    }
   ],
   "source": [
    "from random import randint\n",
    "from time import sleep\n",
    "def warte_zufaellig():\n",
    "    sec = randint(1, 6)\n",
    "    sleep(6)\n",
    "    print(\"Jetzt bin ich fertig.\")\n",
    "warte_zufaellig()"
   ]
  },
  {
   "cell_type": "markdown",
   "metadata": {},
   "source": [
    "## Zweiter Teil"
   ]
  },
  {
   "cell_type": "markdown",
   "metadata": {},
   "source": [
    "### Aufgabe 3 (E)\n",
    "Schreiben Sie eine Funktion mit Namen *schrumpf*, die eine Liste als Argument erwartet und Schritt für Schritt von hinten her ein Element herauslöscht und die danach verbleibende Liste jeweils ausgibt."
   ]
  },
  {
   "cell_type": "code",
   "execution_count": null,
   "metadata": {},
   "outputs": [],
   "source": [
    "def schrumpf(liste):\n",
    "    while len(liste)>0:\n",
    "        liste.pop(-1)\n",
    "        print(liste)"
   ]
  },
  {
   "cell_type": "markdown",
   "metadata": {},
   "source": [
    "### Aufgabe 4 (Ü)\n",
    "Schreiben Sie eine Funktion *halbiere*, die eine Liste von Elementen als Argument erwartet und die hintere Hälfte der Einträge löscht. Bei einer ungeraden Anzahl Einträgen, soll die Anzahl der gelöschten Einträge kleiner sein als diejenige der nicht gelöschten Einträge."
   ]
  },
  {
   "cell_type": "code",
   "execution_count": null,
   "metadata": {},
   "outputs": [],
   "source": [
    "def halbiere(liste):\n",
    "    haelfte = len(liste)//2\n",
    "    for i in range(haelfte):\n",
    "        liste.pop(-1)"
   ]
  },
  {
   "cell_type": "markdown",
   "metadata": {},
   "source": [
    "### Aufgabe 5 (E)\n",
    "Schreiben Sie eine Funktion *contains_threes*, die eine Liste von Zahlen als Argument erwartet und ausgibt, welche Zahlen der 3er Reihe darin vorkommen, der Grösse nach geordnet."
   ]
  },
  {
   "cell_type": "code",
   "execution_count": null,
   "metadata": {},
   "outputs": [],
   "source": [
    "def contains_threes(liste):\n",
    "    threes = []\n",
    "    for elem in liste:\n",
    "        if elem % 3 == 0 and elem not in threes:\n",
    "            threes.append(elem)\n",
    "    threes.sort()\n",
    "    return threes"
   ]
  },
  {
   "cell_type": "markdown",
   "metadata": {},
   "source": [
    "### Aufgabe 6 (V)\n",
    "Schreiben Sie eine Funktion mit Namen *listen*, die einen Integerwert *n* als Argument erwartet und dann eine Liste aus Listen bildet, so dass das erste Element [1] ist, das zweite [1, 2] , das dritte [1, 2, 3] usw. bis zum letzten Element [1, 2, 3,…, n].\n",
    "\n",
    "Wie viele Elemente hat die Liste listen(9)?"
   ]
  },
  {
   "cell_type": "code",
   "execution_count": null,
   "metadata": {},
   "outputs": [],
   "source": [
    "def listen(n):\n",
    "    liste = []\n",
    "    for i in range(n):\n",
    "        elem = [1]\n",
    "        for j in range(2,i+2):\n",
    "            elem.append(j)\n",
    "        liste.append(elem)\n",
    "    return liste"
   ]
  },
  {
   "cell_type": "markdown",
   "metadata": {},
   "source": [
    "### Aufgabe 7 (Ü)\n",
    "Schreiben Sie eine Funktion mit Namen mitte, die eine Liste als Argument erwartet und eine neue Liste zurückgibt, die alle Elemente bis auf das erste und das letzte enthält. \n",
    "mitte ([1,2,3,4]) sollte also den Rückgabewert [2,3] liefern."
   ]
  },
  {
   "cell_type": "code",
   "execution_count": null,
   "metadata": {},
   "outputs": [],
   "source": [
    "def mitte(liste):\n",
    "    return liste[1:-1]"
   ]
  },
  {
   "cell_type": "markdown",
   "metadata": {},
   "source": [
    "## Dritter Teil"
   ]
  },
  {
   "cell_type": "markdown",
   "metadata": {},
   "source": [
    "### Aufgabe 8 (E)\n",
    "Schreiben Sie eine Funktion *ist_sortiert*, die eine Liste als Parameter erwartet und *True* zurückliefert, wenn die Liste aufsteigend sortiert ist, und ansonsten den Wert *False* zurückgibt. Sie können davon ausgehen (als Vorbedingung), dass die Elemente der Liste mit den relationalen Operatoren <, >, usw. vergleichbar sind.\n",
    "\n",
    "Beispielsweise sollte *ist_sortiert([1, 2, 2])* den Wert *True* und *ist_sortiert(['b', 'a'])* den Wert *False* zurückliefern."
   ]
  },
  {
   "cell_type": "code",
   "execution_count": null,
   "metadata": {},
   "outputs": [],
   "source": [
    "def ist_sortiert(liste):\n",
    "    temp = liste[:] # Erzeugt eine Kopie der Liste\n",
    "    liste.sort()    # Sortiert die übergebene Liste\n",
    "    return temp == liste"
   ]
  },
  {
   "cell_type": "markdown",
   "metadata": {},
   "source": [
    "### Aufgabe 9 (E)\n",
    "Schreiben Sie eine Funktion mit dem Namen *schnipp*, die eine Liste erwartet, die das erste und das letzte Element entfernt und den Rückgabewert *None* liefert."
   ]
  },
  {
   "cell_type": "code",
   "execution_count": null,
   "metadata": {},
   "outputs": [],
   "source": [
    "def schnipp(liste):\n",
    "    del liste[0]\n",
    "    del liste[-1]"
   ]
  },
  {
   "cell_type": "markdown",
   "metadata": {},
   "source": [
    "### Aufgabe 10 (E)\n",
    "Zwei Wörter werden als Anagramm bezeichnet, wenn sie die Buchstaben des einen Wortes so umstellen können, dass Sie das andere Wort ergeben. Schreiben Sie eine Funktion *ist_anagramm*, die zwei Strings erwartet und *True* liefert, wenn es sich um Anagramme handelt."
   ]
  },
  {
   "cell_type": "code",
   "execution_count": null,
   "metadata": {},
   "outputs": [],
   "source": [
    "def ist_anagramm(s1, s2):\n",
    "    s1 = list(s1)\n",
    "    s1.sort()\n",
    "    s2 = list(s2)\n",
    "    s2.sort()\n",
    "    return s1==s2"
   ]
  },
  {
   "cell_type": "markdown",
   "metadata": {},
   "source": [
    "### Aufgabe 11 (E)\n",
    "Schreiben Sie eine Funktion mit dem Namen *hat_duplikate*, die eine Liste erwartet und *True* zurückliefert, wenn eines der Elemente mehr als einmal darin enthalten ist. Die ursprüngliche Liste soll dabei nicht verändert werden.\n",
    "\n",
    "Hinweis: Gehen Sie geschickt vor und nutzen Sie die vorgestellten Datentypen. Eine Zeile genügt!"
   ]
  },
  {
   "cell_type": "code",
   "execution_count": null,
   "metadata": {},
   "outputs": [],
   "source": [
    "def hat_duplikate(liste):\n",
    "    return len(liste)==len(set(liste))"
   ]
  },
  {
   "cell_type": "markdown",
   "metadata": {},
   "source": [
    "### Aufgabe 12 (E)\n",
    "Schreiben Sie eine Funktion mit dem Namen *entferne_duplikate*, die eine Liste als Parameter erwartet und eine Liste zurückliefert, die jedes Element der Originalliste nur einmal enthält. \n",
    "\n",
    "Tipp: Sie brauchen nicht in der gleichen Reihenfolge vorzukommen. Auch hier genügt eine Zeile!"
   ]
  },
  {
   "cell_type": "code",
   "execution_count": null,
   "metadata": {},
   "outputs": [],
   "source": [
    "def entferne_duplikate(liste):\n",
    "    return list(set(liste))"
   ]
  },
  {
   "cell_type": "markdown",
   "metadata": {},
   "source": [
    "### Aufgabe 13* (H)\n",
    "Schreiben Sie eine Funktion mit Namen *every_third*, die eine Liste von Zeichen (Buchstaben, Zahlen) entgegen nimmt und jedes dritte Element daraus löscht.\n",
    "Tipp: Testen Sie ihre Funktion eingehend! (Die Aufgabe ist weniger einfach als sie erscheint)"
   ]
  },
  {
   "cell_type": "code",
   "execution_count": null,
   "metadata": {},
   "outputs": [],
   "source": [
    "# Über die Jahre haben sich verschiedene sehr Elegante Lösungen für diese Aufgabe ergeben:\n",
    "def every_third(liste):\n",
    "    for i in range(len(liste)):\n",
    "        if (i+1) % 3 == 0:\n",
    "            liste[i]=[liste[i], True]\n",
    "    for elem in liste:\n",
    "        if isinstance(elem, list):\n",
    "            liste.remove(elem)\n",
    "    return liste\n",
    "\n",
    "def every_third2(liste):\n",
    "    index = len(liste)-1\n",
    "    while index >=0:\n",
    "        if (index+1)%3==0:\n",
    "            liste.remove(liste[index])\n",
    "        index = index-1\n",
    "    return liste\n",
    "\n",
    "def every_third3(liste):\n",
    "    index = 2\n",
    "    while index < len(liste):\n",
    "        liste.remove(liste[index])\n",
    "        index += 2\n",
    "    return liste\n",
    "\n",
    "def every_third_Jan(liste):\n",
    "    del liste[2::3]\n",
    "    return liste"
   ]
  },
  {
   "cell_type": "markdown",
   "metadata": {},
   "source": [
    "## Vierter Teil "
   ]
  },
  {
   "cell_type": "markdown",
   "metadata": {},
   "source": [
    "### Aufgabe 14 (E)\n",
    "a)\tSchreiben Sie eine Funktion *starts_with_d(text)*, die einen Text einliesst und all jene Worte in einer alphabetisch sortierten Liste ausgibt, die mit einem ‘d’ oder einem ‘D’ anfangen."
   ]
  },
  {
   "cell_type": "code",
   "execution_count": null,
   "metadata": {},
   "outputs": [],
   "source": [
    "def starts_with_d(text):\n",
    "    worte = text.split()\n",
    "    result = list()\n",
    "    for wort in worte:\n",
    "        if wort[0].lower() == 'd':\n",
    "            result.append(wort)\n",
    "    result.sort()\n",
    "    return result\n",
    "\n",
    "def starts_with_d2(text):\n",
    "    result = [wort for wort in text.split() if wort[0].lower()=='d']\n",
    "    result.sort()\n",
    "    return result"
   ]
  },
  {
   "cell_type": "markdown",
   "metadata": {},
   "source": [
    "b)\tSchreiben Sie eine Funktion *ends_with_e(text)*, die einen Text einliesst und all jene Worte in einer nach Wortlänge sortierten Liste ausgibt, die mit einem ‘e’ enden.\n",
    "\n",
    "Um eine Liste von Strings nicht alphabetisch sondern nach der Länge zu sortieren, verwenden Sie den Parameter *key* der Funktion *sort*.      \n",
    "*worte.sort(key=len)* sortiert Ihnen eine Liste worte nach Länge der Worte."
   ]
  },
  {
   "cell_type": "code",
   "execution_count": null,
   "metadata": {},
   "outputs": [],
   "source": [
    "def ends_with_e(text):\n",
    "    worte = text.split()\n",
    "    result = list()\n",
    "    for wort in worte:\n",
    "        if wort[-1]=='e':\n",
    "            result.append(wort)\n",
    "    result.sort(key=len)\n",
    "    return result\n",
    "\n",
    "def ends_with_e2(text):\n",
    "    result = [wort for wort in text.split() if wort[-1]=='e']\n",
    "    result.sort()\n",
    "    return result"
   ]
  },
  {
   "cell_type": "markdown",
   "metadata": {},
   "source": [
    "### Aufgabe 15 (V)\n",
    "Schreiben Sie eine Funktion *ohne_umlaute(text)*, die einen Text einliest, alle Worte entfernt, die einen Umlaut enthalten und die schliesslich den Satz ohne diese Worte wieder als String zurückgibt."
   ]
  },
  {
   "cell_type": "code",
   "execution_count": null,
   "metadata": {},
   "outputs": [],
   "source": [
    "def ohne_umlaute(text):\n",
    "    liste1 = text.split()\n",
    "    liste = liste1[:]   # Das Arbeiten auf einer Kopie ist notwendig, da die Liste sonst nicht richtig durchlaufen wird.\n",
    "    for elem in liste:\n",
    "        if 'ä' in elem.lower() or 'ö' in elem.lower() or 'ü' in elem.lower():\n",
    "            liste1.remove(elem)\n",
    "    trennzeichen = ' '\n",
    "    return trennzeichen.join(liste1)"
   ]
  },
  {
   "cell_type": "markdown",
   "metadata": {},
   "source": [
    "### Aufgabe 16 (V)\n",
    "Schreiben Sie eine Funktion *primes(n)*, die Ihnen alle Primzahlen bis zum Wert *n* in einer Liste ausgibt. Nutzen Sie dazu eine selbstgeschriebene Funktion *is_prime(x)*, die *True* zurückgibt, falls *x* eine Primzahl ist und *False* sonst. Mit dieser Hilfsfunktion können Sie in *primes(n)* eine Listen-Abstraktion nutzen, so dass eine Zeile genügt.\n"
   ]
  },
  {
   "cell_type": "code",
   "execution_count": null,
   "metadata": {},
   "outputs": [],
   "source": [
    "def is_prime(x):\n",
    "    for n in range(2,int(sqrt(x))+1):\n",
    "        if x%n==0:\n",
    "            return False\n",
    "    return True\n",
    "\n",
    "def primes(n):\n",
    "    return [x for x in range(2,n) if is_prime(x)]"
   ]
  },
  {
   "cell_type": "markdown",
   "metadata": {},
   "source": [
    "### Aufgabe 17 (E)\n",
    "Nutzen Sie Listen-Abstraktion um folgende Listen zu erzeugen:\n",
    "\n",
    "a)\tEine Liste aller Zahlen in der Siebenerreihe bis 1000"
   ]
  },
  {
   "cell_type": "code",
   "execution_count": null,
   "metadata": {},
   "outputs": [],
   "source": [
    "sevens = [x for x in range(1001) if x%7 == 0]"
   ]
  },
  {
   "cell_type": "markdown",
   "metadata": {},
   "source": [
    "b)\tEine Liste der ersten 10 Kubikzahlen beginnend bei der Kubikzahl von 1"
   ]
  },
  {
   "cell_type": "code",
   "execution_count": null,
   "metadata": {},
   "outputs": [],
   "source": [
    "kubik = [x**3 for x in range(1,11)]"
   ]
  },
  {
   "cell_type": "markdown",
   "metadata": {},
   "source": [
    "c)\tEine Liste aller Primzahldrillinge der Zahlen bis 1000. Ein Primzahldrilling ist ein Tripel (a, b, c), so dass entweder a+2=b und b+4=c oder a+4=b und b+2=c gilt. Nutzen Sie ruhig bereits erstellte Funktionen."
   ]
  },
  {
   "cell_type": "code",
   "execution_count": null,
   "metadata": {},
   "outputs": [],
   "source": [
    "drillinge1 = [[x, x+2, x+6] for x in primes_1000 if x+2 in primes_1000 and x+6 in primes_1000]\n",
    "drillinge2 = [[x, x+4, x+6] for x in primes_1000 if x+4 in primes_1000 and x+6 in primes_1000]\n",
    "drillinge = drillinge1+drillinge2\n",
    "drillinge.sort()"
   ]
  },
  {
   "cell_type": "markdown",
   "metadata": {},
   "source": [
    "d)\tEine Liste, die aus einer vorgegebenen Liste von Worten all jene Worte auswählt, in denen ein ‘a’ aber kein ‘o’ drin vorkommt."
   ]
  },
  {
   "cell_type": "code",
   "execution_count": null,
   "metadata": {},
   "outputs": [],
   "source": [
    "satz = \"Weit draußen in den unerforschten Einöden eines total aus der Mode gekommenen Ausläufers des westlichen Spiralarms der Galaxis leuchtet unbeachtet eine kleine gelbe Sonne.\"\n",
    "worte = satz.split()\n",
    "besondere_worte=[x for x in worte if 'a' in x and 'o' not in x]"
   ]
  }
 ],
 "metadata": {
  "kernelspec": {
   "display_name": "Python 3.7.7 64-bit",
   "language": "python",
   "name": "python3"
  },
  "language_info": {
   "codemirror_mode": {
    "name": "ipython",
    "version": 3
   },
   "file_extension": ".py",
   "mimetype": "text/x-python",
   "name": "python",
   "nbconvert_exporter": "python",
   "pygments_lexer": "ipython3",
   "version": "3.7.7"
  },
  "orig_nbformat": 4,
  "vscode": {
   "interpreter": {
    "hash": "1f2ac25b4a6d870602abfa5d74e7d6f1ae274ba9e86645830384575c0e5c89f3"
   }
  }
 },
 "nbformat": 4,
 "nbformat_minor": 2
}
