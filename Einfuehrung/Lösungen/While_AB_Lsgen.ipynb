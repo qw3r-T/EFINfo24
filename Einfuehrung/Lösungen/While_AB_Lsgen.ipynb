{
 "cells": [
  {
   "cell_type": "markdown",
   "metadata": {},
   "source": [
    "# Aufgabenblatt While-Loop - Lösungen"
   ]
  },
  {
   "cell_type": "markdown",
   "metadata": {},
   "source": [
    "## Aufgabe 1\n",
    "Gegeben seien folgende Programme. Schreiben Sie dazu  Programme mit dem gleichen Verhalten, welche ohne for-Loops auskommen und stattdessen while-Loops nutzen. "
   ]
  },
  {
   "cell_type": "code",
   "execution_count": null,
   "metadata": {},
   "outputs": [],
   "source": [
    "# a)\tVorgabe\n",
    "for i in range(5):\n",
    "    for j in range(5):\n",
    "        print(i, j)\n",
    "\n",
    "# a) Lösung\n",
    "i = 0\n",
    "while i<5:\n",
    "    j = 0\n",
    "    while j<5:\n",
    "        print(i,j)\n",
    "        j += 1\n",
    "    i += 1\n"
   ]
  },
  {
   "cell_type": "code",
   "execution_count": null,
   "metadata": {},
   "outputs": [],
   "source": [
    "# b) Vorgabe\n",
    "for i in range(5):\n",
    "    for j in range(i):\n",
    "        print(i, j)\n",
    "\n",
    "# b) Lösung\n",
    "i = 0\n",
    "while i<5:\n",
    "    j = 0\n",
    "    while j<i:\n",
    "        print(i,j)\n",
    "        j += 1\n",
    "    i += 1\n"
   ]
  },
  {
   "cell_type": "markdown",
   "metadata": {},
   "source": [
    "## Aufgabe 2\n",
    "Schreiben Sie ein Programm, bei dem die Anwenderin/ der Anwender Strings eingeben soll. Diese werden allenfalls bearbeitet und dann in den meisten Fällen in einer Liste gespeichert. \n",
    "\n",
    "Strings, die ein ‘x’ enthalten, werden dabei einfach übersprungen und entsprechend auch nicht in die Liste aufgenommen. Bei Strings, die mindestens zwei ‘e’ enthalten, soll der String nach dem ersten e in zwei Teilstrings aufgeteilt werden. Alle anderen Strings werden unverändert in die Liste aufgenommen. Wenn allerdings der String ‘letztes’ gelesen wird, wird das Vorgehen vorzeitig abgebrochen. Am Ende des Programms soll die entstandene Liste in der Shell ausgegeben werden."
   ]
  },
  {
   "cell_type": "code",
   "execution_count": 1,
   "metadata": {},
   "outputs": [
    {
     "name": "stdout",
     "output_type": "stream",
     "text": [
      "Hal\n"
     ]
    }
   ],
   "source": [
    "liste = []\n",
    "while True:\n",
    "    wort = input(\"Nächstes Wort: \")\n",
    "    if 'x' in wort:\n",
    "        continue\n",
    "    elif wort == 'letztes':\n",
    "        break\n",
    "    if wort.count('e')>=2:\n",
    "        liste.append(wort[:wort.index('e')+1])\n",
    "        liste.append(wort[wort.index('e')+1:])\n",
    "    else:\n",
    "        liste.append(wort)\n",
    "print(liste)"
   ]
  },
  {
   "cell_type": "markdown",
   "metadata": {},
   "source": [
    "## Aufgabe 3\n",
    "Schreiben Sie eine Funktion collatz(n), die folgendes macht:\n",
    "\n",
    "Solange n grösser als 1 ist, wird n ersetzt durch\n",
    "* n//2 falls n gerade ist\n",
    "* 3*n+1 sonst\n",
    "Zudem wird das aktuelle *n* jeweils in der Shell ausgegeben. Testen Sie für verschiedene Zahlen, was da passiert. Testen Sie auch die folgenden Zahlen: 2048, 871, 6171\n",
    "\n",
    "Zusatzinformation: Die sogenannte Collatz-Vermutung besagt, dass dieser Prozess für alle natürlichen Zahlen n irgendwann endet. Lothar Collatz hat die Vermutung 1937 aufgestellt, ohne Sie jedoch beweisen zu können. Die Vermutung wurde auch in den darauf folgenden 83 Jahren nicht gelöst, weswegen diese Vermutung auch als Collatz Problem bekannt ist.\n"
   ]
  },
  {
   "cell_type": "code",
   "execution_count": null,
   "metadata": {},
   "outputs": [],
   "source": [
    "def collatz(n):\n",
    "    while n>1:\n",
    "        print(n)\n",
    "        if n%2 == 0:\n",
    "            n = n//2\n",
    "        else:\n",
    "            n = n*3+1"
   ]
  },
  {
   "cell_type": "markdown",
   "metadata": {},
   "source": [
    "## Aufgabe 4\n",
    "Schreiben Sie ein Programm, das ähnlich wie jenes aus der Präsentation zufällige Additionsaufgaben stellt und solange neue Rechnungen erstellt und das Ergebnis abfragt, bis das erste Mal eine falsche Lösung durch den User eingegeben wird. Nutzen Sie dazu die Konstruktion *while True*."
   ]
  },
  {
   "cell_type": "code",
   "execution_count": null,
   "metadata": {},
   "outputs": [],
   "source": [
    "# Rechnungstrainer fuer Kind\n",
    "from random import randint\n",
    "print(\"Rechnungstrainer Addition\")\n",
    "while True:\n",
    "    zahl1 = randint(1, 99)\n",
    "    zahl2 = randint(1, 100-zahl1) # Kind kann nur bis 100 rechnen    while count < 5:\n",
    "    print(zahl1,\"+\",zahl2, end=' = ')\n",
    "    ergebnis = int(input())\n",
    "    if ergebnis == zahl1+zahl2:\n",
    "        print(\"sehr gut\")         \n",
    "    else:\n",
    "        print(\"richtig waere\",zahl1 + zahl2)\n",
    "        break"
   ]
  },
  {
   "cell_type": "markdown",
   "metadata": {},
   "source": [
    "## Aufgabe 5\n",
    "Erweitern Sie den fiesen Rechnungstrainer so, dass das Kind statt der Lösung auch «111» eingeben kann und dann einfach die nächste Aufgabe gestellt wird, ohne dass das als Fehler gewertet wird."
   ]
  },
  {
   "cell_type": "code",
   "execution_count": null,
   "metadata": {},
   "outputs": [],
   "source": [
    "fehler = 0\n",
    "while fehler < 3:\n",
    "    zahl1 = randint(1, 99)\n",
    "    zahl2 = randint(1, 100-zahl1) # Kind kann nur bis 100 rechnen\n",
    "    print(zahl1,\"+\",zahl2, end=' = ')\n",
    "    ergebnis = int(input())\n",
    "    if ergebnis = 111:\n",
    "        continue\n",
    "    if ergebnis == zahl1 + zahl2:\n",
    "        print(\"sehr gut, naechste Aufgabe.\")\n",
    "        continue\n",
    "    fehler += 1\n",
    "    print(\"richtig waere: \", zahl1+zahl2)\n",
    "print(\"Das war leider der dritte Fehler. Das Training ist beendet.\")"
   ]
  },
  {
   "cell_type": "markdown",
   "metadata": {},
   "source": [
    "## Aufgabe 6\n",
    "Schreiben Sie ein Programm *netter_rechnungstrainer*, der Multiplikationsaufgaben aus dem kleinen 1x1 stellt, ähnlich den anderen Rechnungstrainern. Am Ende wird die Anzahl falscher Lösungen ausgegeben und das Programm läuft so lange, bis 10 Aufgaben richtig gelöst wurden. Für jede Aufgabe hat das Kind drei Versuche."
   ]
  },
  {
   "cell_type": "code",
   "execution_count": null,
   "metadata": {},
   "outputs": [],
   "source": [
    "from random import randint\n",
    "\n",
    "countR = 0\n",
    "countF = 0\n",
    "while countR < 10:\n",
    "    a = randint(1,10)\n",
    "    b = randint(1,10)\n",
    "    versuche = 0\n",
    "    while versuche < 3:\n",
    "        print(a,'*',b, end='= ')\n",
    "        eingabe = int(input())\n",
    "        if eingabe == a*b:\n",
    "            print(\"super, das stimmt\")\n",
    "            countR += 1\n",
    "            break\n",
    "        else:\n",
    "            versuche +=1\n",
    "            countF += 1\n",
    "print(\"Es hatte\",countF,\"falsche Loesungen\")"
   ]
  },
  {
   "cell_type": "markdown",
   "metadata": {},
   "source": [
    "## Aufgabe 7\n",
    "Schreiben Sie ein Programm mit einer Funktion *rateZahl(n)*, bei dem in der Funktion eine Zufallszahl zwischen 1 und *n* erzeugt wird und in welcher der User so lange Zahlen eingeben muss, bis er die Zahl richtig erraten hat. Als Hilfestellung werden dem User bei falschen Versuchen jeweils Tipps gegeben, ob die gesuchte Zahl grösser oder kleiner als die eingegebene Zahl ist. Sobald die Zahl erraten wurde, wird dem User ein sinnvolles Feedback gegeben, das auch beinhaltet, wie viele Versuche er oder sie benötigt hat.\n",
    "\n",
    "Anschlussfrage: Welches ist die beste Strategie für den User, um im Schnitt möglichst rasch die richtige Zahl zu erraten?"
   ]
  },
  {
   "cell_type": "code",
   "execution_count": null,
   "metadata": {},
   "outputs": [],
   "source": [
    "def rateZahl(n):\n",
    "    print(\"Gesucht ist eine Zahl zwischen 1 und\",n)\n",
    "    zahl = randint(1,n)\n",
    "    count = 1\n",
    "    while True:\n",
    "        geratet = int(input(\"Rate die Zahl: \"))\n",
    "        if geratet == zahl:\n",
    "            break\n",
    "        elif geratet > zahl:\n",
    "            print(\"Die gesuchte Zahl ist kleiner\")\n",
    "        else:\n",
    "            print(\"Die gesuchte Zahl ist groesser\")\n",
    "        count += 1\n",
    "    print(\"Ja genau,\",zahl,\"war die gesuchte Zahl.\")\n",
    "    print(\"Du hast\",count,\"Versuche gebraucht.\")"
   ]
  },
  {
   "cell_type": "markdown",
   "metadata": {},
   "source": [
    "Die beste Strategie ist bei *n/2* anzufangen und dann je nach Rückmeldung in der oberen oder unteren Hälfte wieder die mittlere Zahl zu wählen und so weiter. Der in Frage kommende Zahlenbereich halbiert sich so in jedem Schritt und man braucht maximal ⌈log_2⁡(n) ⌉ Schritte."
   ]
  },
  {
   "cell_type": "markdown",
   "metadata": {},
   "source": [
    "## Aufgabe 8*\n",
    "Kopieren Sie ihr Programm aus Aufgabe 3 und machen Sie folgendes. Entfernen Sie zuerst die print-Statements und schreiben Sie anschliessend eine zweite Funktion *laengsteCollatzFolge(n)*, dass für alle Zahlen von 1 bis n jeweils diejenige Ausgangszahl sucht und zurückgibt, für die es am meisten Schleifendurchläufe braucht, bis man bei 1 landet. Passen Sie ihre ursprüngliche Funktion *collatz(n)* so an, dass Sie die neue Aufgabe erfüllen kann."
   ]
  },
  {
   "cell_type": "code",
   "execution_count": null,
   "metadata": {},
   "outputs": [],
   "source": [
    "def collatz(n):\n",
    "    count = 0\n",
    "    while n>1:\n",
    "        if n%2 == 0:\n",
    "            n = n//2\n",
    "        else:\n",
    "            n = n*3+1\n",
    "        count += 1\n",
    "    return count\n",
    "            \n",
    "def laengsteCollatzFolge(n):\n",
    "    max = 0\n",
    "    zahl = 1\n",
    "    for i in range(n+1):\n",
    "        ergebnis = collatz(i)\n",
    "        if ergebnis>max:\n",
    "            max = ergebnis\n",
    "            zahl = i\n",
    "    return zahl"
   ]
  }
 ],
 "metadata": {
  "kernelspec": {
   "display_name": "Python 3.7.7 64-bit",
   "language": "python",
   "name": "python3"
  },
  "language_info": {
   "codemirror_mode": {
    "name": "ipython",
    "version": 3
   },
   "file_extension": ".py",
   "mimetype": "text/x-python",
   "name": "python",
   "nbconvert_exporter": "python",
   "pygments_lexer": "ipython3",
   "version": "3.7.7"
  },
  "orig_nbformat": 4,
  "vscode": {
   "interpreter": {
    "hash": "1f2ac25b4a6d870602abfa5d74e7d6f1ae274ba9e86645830384575c0e5c89f3"
   }
  }
 },
 "nbformat": 4,
 "nbformat_minor": 2
}
