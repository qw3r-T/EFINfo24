{
 "cells": [
  {
   "cell_type": "markdown",
   "metadata": {},
   "source": [
    "# Aufgabenblatt Strings"
   ]
  },
  {
   "cell_type": "markdown",
   "metadata": {},
   "source": [
    "## Aufgabe 1\n",
    "Bestimmen Sie jeweils den Datentyp von folgenden Werten: \n",
    "\n",
    "True *(bool)*, 1 *(int)*, 'c' *(str)*, 1.0 *(float)*, [1, 2] *(list)*, {1:2} *(dict)*, (1, 2) *(tuple)*"
   ]
  },
  {
   "cell_type": "markdown",
   "metadata": {},
   "source": [
    "## Aufgabe 2\n",
    "Schreiben Sie eine Funktion, die einen String als Argument erwartet und die Zeichen rückwärts anzeigt – eines pro Zeile."
   ]
  },
  {
   "cell_type": "code",
   "execution_count": null,
   "metadata": {},
   "outputs": [],
   "source": [
    "def rueckwaerts(wort):\n",
    "    for i in range(len(wort)):\n",
    "        print(wort[-(i+1)])"
   ]
  },
  {
   "cell_type": "markdown",
   "metadata": {},
   "source": [
    "## Aufgabe 3\n",
    "Sie haben eine Liste von sogenannten Präfixen \n",
    "\n",
    "praefixe='DHLMRS'\n",
    "\n",
    "Und einen sogenannten Suffix \n",
    "\n",
    "suffix='aus'\n",
    "\n",
    "Schreiben Sie ein Programm mit diesen Zeichenketten, dass nacheinander einen Buchstaben aus der Präfix-Liste nimmt und ihn mit dem Suffix konkateniert. Die Ergebnisse sollen mit einem print-Statement ausgegeben werden. Die Ausgabe fängt also wie folgt an:\n",
    "\n",
    "Daus\n",
    "\n",
    "Haus\n",
    "\n",
    "…\n"
   ]
  },
  {
   "cell_type": "code",
   "execution_count": null,
   "metadata": {},
   "outputs": [],
   "source": [
    "praefixe = 'DHLMRS'\n",
    "suffix = 'aus'\n",
    "for c in praefixe:\n",
    "    print(c+suffix)"
   ]
  },
  {
   "cell_type": "markdown",
   "metadata": {},
   "source": [
    "## Aufgabe 4\n",
    "Informieren Sie sich mittels help(str) über die Methoden der Klasse String.\n",
    "\n",
    "Betrachten Sie insbesondere folgende Methoden: \\_\\_ge\\_\\_ ,\\_\\_le_\\_ , count, endswith, find, index, islower, isupper, join, lower, partition, replace, rindex, split, startswith, upper.\n",
    "\n",
    "Nutzen Sie diese Methoden um zu testen:\n"
   ]
  },
  {
   "cell_type": "markdown",
   "metadata": {},
   "source": [
    "a)\tob ‘banane’ alphabetisch vor ‘Birne’ einzuordnen ist."
   ]
  },
  {
   "cell_type": "code",
   "execution_count": 1,
   "metadata": {},
   "outputs": [
    {
     "data": {
      "text/plain": [
       "False"
      ]
     },
     "execution_count": 1,
     "metadata": {},
     "output_type": "execute_result"
    }
   ],
   "source": [
    "'banane'.__le__('Birne') \t\n",
    "#oder \t\n",
    "'banane'<'Birne'"
   ]
  },
  {
   "cell_type": "markdown",
   "metadata": {},
   "source": [
    "b)\tob der Buchstabe ‘x’ in ‘Idefix’ auftritt."
   ]
  },
  {
   "cell_type": "code",
   "execution_count": 2,
   "metadata": {},
   "outputs": [
    {
     "data": {
      "text/plain": [
       "True"
      ]
     },
     "execution_count": 2,
     "metadata": {},
     "output_type": "execute_result"
    }
   ],
   "source": [
    "'Idefix'.find('x')>=0\t\t\n",
    "#oder\t\n",
    "'x' in 'Idefix'"
   ]
  },
  {
   "cell_type": "markdown",
   "metadata": {},
   "source": [
    "c)\twie oft der Buchstabe ‘s’ in ‘Fischers Fritz fischt frische Fische’ auftritt."
   ]
  },
  {
   "cell_type": "code",
   "execution_count": 3,
   "metadata": {},
   "outputs": [
    {
     "data": {
      "text/plain": [
       "5"
      ]
     },
     "execution_count": 3,
     "metadata": {},
     "output_type": "execute_result"
    }
   ],
   "source": [
    "'Fischers Fritz fischt frische Fische'.count('s')"
   ]
  },
  {
   "cell_type": "markdown",
   "metadata": {},
   "source": [
    "d)\tan welcher Stelle der Substring ‘ind’ das erste mal in ‘Blumenkinder’ auftritt."
   ]
  },
  {
   "cell_type": "code",
   "execution_count": 4,
   "metadata": {},
   "outputs": [
    {
     "data": {
      "text/plain": [
       "7"
      ]
     },
     "execution_count": 4,
     "metadata": {},
     "output_type": "execute_result"
    }
   ],
   "source": [
    "'Blumenkinder'.index('ind')"
   ]
  },
  {
   "cell_type": "markdown",
   "metadata": {},
   "source": [
    "e)\tob ‘banane’ mit ‘B’ anfängt."
   ]
  },
  {
   "cell_type": "code",
   "execution_count": 5,
   "metadata": {},
   "outputs": [
    {
     "data": {
      "text/plain": [
       "False"
      ]
     },
     "execution_count": 5,
     "metadata": {},
     "output_type": "execute_result"
    }
   ],
   "source": [
    "'banane'.startswith('B')"
   ]
  },
  {
   "cell_type": "markdown",
   "metadata": {},
   "source": [
    "Nutzen Sie die Methoden zudem um:"
   ]
  },
  {
   "cell_type": "markdown",
   "metadata": {},
   "source": [
    "f)\teine Liste von Worten jeweils mit einem Komma zu verbinden. Aus [‘a’,’b’,’c’] soll der String ‘a,b,c’ gebildet werden."
   ]
  },
  {
   "cell_type": "code",
   "execution_count": 6,
   "metadata": {},
   "outputs": [
    {
     "data": {
      "text/plain": [
       "'a,b,c'"
      ]
     },
     "execution_count": 6,
     "metadata": {},
     "output_type": "execute_result"
    }
   ],
   "source": [
    "','.join(['a','b','c'])"
   ]
  },
  {
   "cell_type": "markdown",
   "metadata": {},
   "source": [
    "g)\tdas erste Wort innerhalb eines Strings zu separieren (Hinweis: Es gibt verschiedene Ansätze: Sie können beispielsweise den String mittels der Methode split in eine Liste der einzelnen Worte umformen und dann das erste Element aus dieser Liste auslesen oder Sie können den String so aufteilen, dass Sie drei Teile haben: den Teilstring vor dem ersten Leerschlag, den String mit dem Leerschlag und den String nach dem Leerschlag. Dazu nutzen Sie die Methode partition. Probieren Sie beide Wege aus.)"
   ]
  },
  {
   "cell_type": "code",
   "execution_count": 7,
   "metadata": {},
   "outputs": [
    {
     "data": {
      "text/plain": [
       "'Es'"
      ]
     },
     "execution_count": 7,
     "metadata": {},
     "output_type": "execute_result"
    }
   ],
   "source": [
    "\"Es werde Licht\".split(' ')[0]"
   ]
  },
  {
   "cell_type": "code",
   "execution_count": 8,
   "metadata": {},
   "outputs": [
    {
     "data": {
      "text/plain": [
       "'Es'"
      ]
     },
     "execution_count": 8,
     "metadata": {},
     "output_type": "execute_result"
    }
   ],
   "source": [
    "\"Es werde Licht\".partition(' ')[0]"
   ]
  },
  {
   "cell_type": "markdown",
   "metadata": {},
   "source": [
    "h)\talle Vorkommen von ‘a’ in ‘banane’ durch ‘oi’ zu ersetzen."
   ]
  },
  {
   "cell_type": "code",
   "execution_count": 9,
   "metadata": {},
   "outputs": [
    {
     "data": {
      "text/plain": [
       "'boinoine'"
      ]
     },
     "execution_count": 9,
     "metadata": {},
     "output_type": "execute_result"
    }
   ],
   "source": [
    "'banane'.replace('a','oi')"
   ]
  },
  {
   "cell_type": "markdown",
   "metadata": {},
   "source": [
    "i)\tdie ersten 3 Vorkommen von ‘sch’ in ‘Fischers Fritz fischt frische Fische’ durch ‘s’ zu ersetzen."
   ]
  },
  {
   "cell_type": "code",
   "execution_count": 10,
   "metadata": {},
   "outputs": [
    {
     "data": {
      "text/plain": [
       "'Fisers Fritz fist frise Fische'"
      ]
     },
     "execution_count": 10,
     "metadata": {},
     "output_type": "execute_result"
    }
   ],
   "source": [
    "'Fischers Fritz fischt frische Fische'.replace('sch','s',3)"
   ]
  },
  {
   "cell_type": "markdown",
   "metadata": {},
   "source": [
    "j)\tden Index des letzten Auftretens des Buchstabens ‘n’ in ‘banane’ zu ermitteln"
   ]
  },
  {
   "cell_type": "code",
   "execution_count": 11,
   "metadata": {},
   "outputs": [
    {
     "data": {
      "text/plain": [
       "4"
      ]
     },
     "execution_count": 11,
     "metadata": {},
     "output_type": "execute_result"
    }
   ],
   "source": [
    "'banane'.rindex('n')"
   ]
  },
  {
   "cell_type": "markdown",
   "metadata": {},
   "source": [
    "k)\tden String ‘Fischers Fritz fischt frische Fische’ in eine Liste der auftretenden Worte zu zerlegen"
   ]
  },
  {
   "cell_type": "code",
   "execution_count": null,
   "metadata": {},
   "outputs": [],
   "source": [
    "'Fischers Fritz fischt frische Fische'.split(' ')"
   ]
  },
  {
   "cell_type": "markdown",
   "metadata": {},
   "source": [
    "## Aufgabe 5\n",
    "a)\tSie haben in den Folien die Funktion *suche(wort, zeichen)* kennengelernt. Erweitern Sie diese so, dass die Funktion zwei weitere Parameter erwartet – die Indices des Slices, das durchsucht werden soll. Also einen Wert, der den Anfangsindex angibt und einen Wert, der den Endindex angibt.\n"
   ]
  },
  {
   "cell_type": "code",
   "execution_count": 12,
   "metadata": {},
   "outputs": [],
   "source": [
    "def suche2(wort, zeichen, anfang, ende):\n",
    "    index = anfang\n",
    "    while index < ende:\n",
    "        if wort[index] == zeichen:\n",
    "            return index\n",
    "        index += 1\n",
    "    return -1"
   ]
  },
  {
   "cell_type": "markdown",
   "metadata": {},
   "source": [
    "b)\tSie haben die Funktion *zeichen_in_wort(wort, zeichen)* kennengelernt. Verändern Sie diese so, dass sie die ursprüngliche Funktion suche(wort, zeichen) aus den Folien nutzt, statt selbst den String zu traversieren und True zurückgibt, falls zeichen in wort vorkommt und False sonst."
   ]
  },
  {
   "cell_type": "code",
   "execution_count": null,
   "metadata": {},
   "outputs": [],
   "source": [
    "def zeichen_in_wort(wort, zeichen):\n",
    "    return suche(wort,zeichen) >=0"
   ]
  },
  {
   "cell_type": "markdown",
   "metadata": {},
   "source": [
    "## Aufgabe 6\n",
    "Palindrome sind Worte, die vorwärts und rückwärts gelesen dasselbe ergeben. Schreiben Sie eine Funktion, die einen String als Argument erwartet und testet, ob dieser ein Palindrom ist oder nicht. Als Rückgabewert soll ein Boolean gegeben werden. Testen Sie ihre Funktion in geeigneter Weise.\n",
    "\n",
    "Hinweis: Zum Testen ist es manchmal gar nicht so schlecht, wenn Sie sicherstellen, dass der Test auf Palindrome nicht an der Gross-Kleinschreibung scheitert. \n"
   ]
  },
  {
   "cell_type": "code",
   "execution_count": null,
   "metadata": {},
   "outputs": [],
   "source": [
    "def palindrome1(wort):\n",
    "    return wort.lower()==wort[::-1].lower()"
   ]
  },
  {
   "cell_type": "markdown",
   "metadata": {},
   "source": [
    "## Aufgabe 7\n",
    "a)\tSie haben gesehen, wie man mittels eines Slices ein Wort umdrehen kann. Was passiert denn, wenn man in *wort[::-1]* den Wert von -1 verändert? Testen Sie das für mehrere Werte.\n"
   ]
  },
  {
   "cell_type": "markdown",
   "metadata": {},
   "source": [
    "Generell führt wort[::n] zum Erstellen eines neuen Strings aus dem String wort. Ist n positiv, so nimmt man beginnend beim ersten Buchstaben von wort jeweils jeden n-ten dazu. Ist n negativ, so macht man das entsprechend vom Ende von wort rückwärts."
   ]
  },
  {
   "cell_type": "markdown",
   "metadata": {},
   "source": [
    "b)\tSchreiben Sie nun eine Funktion zerlege(wort), wobei der Parameter wort als Argument einen String erwartet und diesen so zerlegt ausgibt, dass zuerst beginnend bei Index 0 jeder dritte Buchstabe ausgegeben wird, dann in einer nächsten Zeile jeder zweite noch nicht ausgedruckte Buchstabe und schliesslich in einer dritten Zeile die noch verbleibenden Buchstaben. \n",
    "Hinweis: diese Funktion braucht nicht mehr als 3 Zeilen im Body.\n"
   ]
  },
  {
   "cell_type": "code",
   "execution_count": null,
   "metadata": {},
   "outputs": [],
   "source": [
    "def zerlege(wort):\n",
    "    print(wort[::3])\n",
    "    print(wort[1::3])\n",
    "    print(wort[2::3])"
   ]
  },
  {
   "cell_type": "markdown",
   "metadata": {},
   "source": [
    "## Aufgabe 8\n",
    "Die folgenden Funktionen sollen alle überprüfen, ob ein String Kleinbuchstaben enthält. Einige davon sind allerdings falsch. Beschreiben Sie für jede Funktion, was sie in Wirklichkeit tut (vorausgesetzt der Parameter ist ein String).\n"
   ]
  },
  {
   "cell_type": "code",
   "execution_count": 1,
   "metadata": {},
   "outputs": [],
   "source": [
    "def kleine_buchstaben1(s):\n",
    "    for c in s:\n",
    "        return c.islower()\n",
    "# Prüft nur, ob der erste Buchstabe ein Kleinbuchstabe ist\n",
    "\n",
    "def kleine_buchstaben2(s):\n",
    "    for c in s:\n",
    "        return 'c'.islower()\n",
    "# Gibt immer True zurück, weil der Buchstabe 'c' ein Kleinbuchstabe ist.\n",
    "\n",
    "def kleine_buchstaben3(s):\n",
    "    for c in s:\n",
    "        flag = c.islower()\n",
    "    return flag\n",
    "# Falls der letzte Buchstabe klein ist, gibt es True zurück, sonst False\n",
    "\n",
    "def kleine_buchstaben4(s):\n",
    "    flag = False\n",
    "    for c in s:\n",
    "        flag = flag or c.islower()\n",
    "    return flag\n",
    "# Macht das Gesuchte: Falls der String kleine Buchstaben enthält, gibt es True zurück, sonst False\n",
    "\n",
    "def kleine_buchstaben5(s):\n",
    "    for c in s:\n",
    "        if not c.islower():\n",
    "            return False\n",
    "    return True\n",
    "# Gibt False zurück, falls der String Grossbuchstaben enthält, sonst True"
   ]
  },
  {
   "cell_type": "markdown",
   "metadata": {},
   "source": [
    "## Aufgabe 9\n",
    "Sie haben in den Folien gesehen, wie man Integerwerte innerhalb eines Strings formatieren kann. Das geht auch für Floats und Strings. Dabei können Sie folgendes definieren: die Breite eines Strings, die Position eines Strings, falls er kürzer ist als die definierte Breite, die Anzahl Nachkommastellen eines Floats.\n"
   ]
  },
  {
   "cell_type": "markdown",
   "metadata": {},
   "source": [
    "\n",
    "Generell: man kann nach dem Doppelpunkt den Platz angeben, der für das entsprechende Argument verwendet werden soll.\n",
    "\n",
    "Zudem kann man angeben, wo der allenfalls entstehende leere Platz hinkommen soll:\n",
    "- Nichts oder >: vor dem Text, der Text wird also quasi rechtsbündig dargestellt\n",
    "- <: nach dem Text, der Text wird also quasi linksbündig dargestellt\n",
    "- ^: mittig\n",
    "\n",
    "Beispiel:\n"
   ]
  },
  {
   "cell_type": "code",
   "execution_count": 2,
   "metadata": {},
   "outputs": [
    {
     "name": "stdout",
     "output_type": "stream",
     "text": [
      "Sammy has 5    red         balloons!\n"
     ]
    }
   ],
   "source": [
    "print(\"Sammy has {0:<4} red {1:>16}!\".format(5, \"balloons\"))"
   ]
  },
  {
   "cell_type": "markdown",
   "metadata": {},
   "source": [
    "Zudem kann man den Leerraum mit Zeichen füllen.\n",
    "\n",
    "Beispiel:"
   ]
  },
  {
   "cell_type": "code",
   "execution_count": 3,
   "metadata": {},
   "outputs": [
    {
     "name": "stdout",
     "output_type": "stream",
     "text": [
      "*******Sammy********\n"
     ]
    }
   ],
   "source": [
    "print(\"{:*^20s}\".format(\"Sammy\"))"
   ]
  },
  {
   "cell_type": "markdown",
   "metadata": {},
   "source": [
    "**Bei Floats**:\n",
    "\n",
    "Bei {:2.3f} wird einen Float ausgeben, bei dem zwei Stellen vor und 3 Stellen nach dem Komma dargestellt werden.\n",
    "\n",
    "Beispiel:\n"
   ]
  },
  {
   "cell_type": "code",
   "execution_count": null,
   "metadata": {},
   "outputs": [],
   "source": [
    "print(\"{1:3.4f} oder {0:5.1f}\".format(123.123456,3.256))"
   ]
  },
  {
   "cell_type": "markdown",
   "metadata": {},
   "source": [
    "Aufgabe:\n",
    "\n",
    "Schreiben Sie ein Programm, in welchem die Anwenderin / der Anwender jeweils Angaben zu den Mittgliedern in einem 4er-Team eingeben soll. Zu erfassen sind: Vorname, Nachname, Alter in Jahren, Körpergrösse in Meter, Gewicht in kg. Anschliessend sollen die entsprechenden Daten schön formatiert ausgegeben werden.\n",
    "\n",
    "Tipp: Nutzen Sie einen for-Loop und lesen Sie die entsprechenden Daten pro Team-Mitglied ein. Speichern Sie diese Daten als formatierten String in einer Liste. Beachten Sie beim Formatieren, dass sie genügend Platz reservieren. Geben Sie dann die Liste Element für Element aus.\n"
   ]
  },
  {
   "cell_type": "raw",
   "metadata": {},
   "source": [
    "Mögliche Ausgabe\n",
    "\n",
    "Vorame:Janis        Nachname:Joplin       Alter: 67  Grösse:1.6m  Gewicht:65.000kg\n",
    "Vorame:Elvis        Nachname:Presley      Alter: 78  Grösse:1.9m  Gewicht:92.000kg\n",
    "Vorame:June         Nachname:Carter       Alter: 91  Grösse:1.6m  Gewicht:62.000kg\n",
    "Vorame:Bob          Nachname:Dylan        Alter: 56  Grösse:1.8m  Gewicht:85.000kg"
   ]
  },
  {
   "cell_type": "code",
   "execution_count": null,
   "metadata": {},
   "outputs": [],
   "source": [
    "liste = []\n",
    "for i in range(4):\n",
    "    vn = input(\"Vorname: \")\n",
    "    nn = input(\"Nachname: \")\n",
    "    a = int(input(\"Alter in Jahren: \"))\n",
    "    gr = float(input(\"Grösse in Meter: \"))\n",
    "    ge = float(input(\"Gewicht in kg: \"))\n",
    "    string = \"Vorame:{:12} Nachname:{:12} Alter: {:2d}  Grösse:{:1.2}m  Gewicht:{:3.3f}kg\".format(vn,nn,a,gr,ge)\n",
    "    liste.append(string)\n",
    "for zeile in liste:\n",
    "    print(zeile)"
   ]
  }
 ],
 "metadata": {
  "kernelspec": {
   "display_name": "Python 3",
   "language": "python",
   "name": "python3"
  },
  "language_info": {
   "codemirror_mode": {
    "name": "ipython",
    "version": 3
   },
   "file_extension": ".py",
   "mimetype": "text/x-python",
   "name": "python",
   "nbconvert_exporter": "python",
   "pygments_lexer": "ipython3",
   "version": "3.7.7"
  }
 },
 "nbformat": 4,
 "nbformat_minor": 4
}
